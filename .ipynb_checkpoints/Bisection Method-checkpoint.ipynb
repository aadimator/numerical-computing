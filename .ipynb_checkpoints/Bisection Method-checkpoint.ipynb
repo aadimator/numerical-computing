{
 "cells": [
  {
   "cell_type": "markdown",
   "metadata": {},
   "source": [
    "# The Bisection Method"
   ]
  },
  {
   "cell_type": "markdown",
   "metadata": {},
   "source": [
    "## Algorithm"
   ]
  },
  {
   "cell_type": "raw",
   "metadata": {},
   "source": [
    "To find a solution to f(x) = 0 given the continuous function f on the interval [a,b], where f(a) and f(b) have opposite signs:\n",
    "INPUT endpoints a,b; tolerance TOL; maximum number of iterations N₀.\n",
    "OUTPUT approximate solution p or message of failure.\n",
    "Step 1 Set i = 1;\n",
    "         FA = f(a).\n",
    "Step 2 While i ≤ N₀ do Steps 3–6.\n",
    "Step 3 Set p = a + (b − a)/2; (Compute pᵢ.)\n",
    "         FP = f(p).\n",
    "Step 4 If FP = 0 or (b − a)/2 < TOL then\n",
    "         OUTPUT (p); (Procedure completed successfully.)\n",
    "         STOP.\n",
    "Step 5 Set i = i + 1.\n",
    "Step 6 If FA · FP > 0 then set a = p; (Compute aᵢ ,bᵢ .)\n",
    "         FA = FP\n",
    "         else set b = p. (FA is unchanged.)\n",
    "Step 7 OUTPUT (‘Method failed after N₀ iterations, N₀ =’, N₀ );\n",
    "         (The procedure was unsuccessful.)\n",
    "         STOP."
   ]
  },
  {
   "cell_type": "markdown",
   "metadata": {},
   "source": [
    "## Code"
   ]
  },
  {
   "cell_type": "code",
   "execution_count": 2,
   "metadata": {
    "collapsed": false
   },
   "outputs": [],
   "source": [
    "import pandas as pd"
   ]
  },
  {
   "cell_type": "code",
   "execution_count": 3,
   "metadata": {
    "collapsed": false
   },
   "outputs": [],
   "source": [
    "def Bisection(a, b, f, tolerance=0.000001, max_iterations=100, output='answer', stopping_criterion='tolerance', iteration=100):\n",
    "    \"\"\"The Bisection Algorithm\n",
    "\n",
    "    Keyword arguments:\n",
    "    a (double) -- starting interval\n",
    "    b (double) -- ending interval\n",
    "    f (function) -- function defined on interval\n",
    "    tolerance (double) -- error tolerance (default = 0.000001)\n",
    "    max_iterations (int) -- number of maximum iterations (default = 100)\n",
    "    output (string) -- how to output the result (default = 'answer')\n",
    "                possible values are:\n",
    "                  - 'answer' : to show the value of \"p\"\n",
    "                  - 'table' : to show all the values in tabular form\n",
    "    stopping_criterion (string) -- when to stop the processing (default = 'tolerance')\n",
    "                possible vaulse are:\n",
    "                  - 'tolerance' : to stop at a certain tolerance level\n",
    "                  - 'iteration' : to stop at a certain iteration (must provide value for 'iteration' argument)\n",
    "    iteration (int) -- on which iteration to stop the processing (default = 100)\n",
    "    \n",
    "    Returns:\n",
    "    \n",
    "    bool: False if there's a problem\n",
    "    \n",
    "    Otherwise it will return the value according to the value in 'output' argument.\n",
    "    If value of output is 'answer', it will return a float. If it is 'table', it will return a DataFrame.\n",
    "    \"\"\"\n",
    "    \n",
    "    # check if 'f' is a function\n",
    "    if(not callable(f)):\n",
    "        print (\"Please provide a function 'f'\")\n",
    "        return False\n",
    "    \n",
    "    fa = f(a)\n",
    "    fb = f(b)\n",
    "    # check if fa and fb have the same signs\n",
    "    if ((fa > 0 and fb > 0) or (fa < 0 and fb < 0)):\n",
    "        print (\"This problem is unsolvable as\")\n",
    "        print (\"f(a) = \", fa)\n",
    "        print (\"f(b) = \", fb)\n",
    "        print (\"They are both \", \"negative.\" if fa < 0 else \"positive.\")\n",
    "        return False\n",
    "    \n",
    "    A = list()\n",
    "    B = list()\n",
    "    P = list()\n",
    "    FA = list()\n",
    "    FB = list()\n",
    "    FP = list()\n",
    "    \n",
    "    for i in range(1, max_iterations):\n",
    "        p = round(a + (b - a)/2, 9)\n",
    "        fp = f(p)\n",
    "        \n",
    "        A.append(a)\n",
    "        B.append(b)\n",
    "        P.append(p)\n",
    "        FA.append(fa)\n",
    "        FB.append(fb)\n",
    "        FP.append(fp)\n",
    "        \n",
    "        if (fp == 0 or (b-a)/2 < tolerance or (stopping_criterion == 'iteration' and iteration == i)):\n",
    "            if (output == 'answer'):\n",
    "                return p\n",
    "            if (output == 'table'):\n",
    "                # create a table and return it\n",
    "                d = {'a': A, 'f(a)': FA, 'b' : B, 'f(b)' : FB, 'p' : P, 'f(p)': FP}\n",
    "                df = pd.DataFrame(data=d, columns=['a', 'f(a)', 'b', 'f(b)', 'p', 'f(p)'])\n",
    "                df.index = df.index + 1\n",
    "                return df\n",
    "        \n",
    "        if (fa * fp > 0): \n",
    "            a = p\n",
    "            fa = fp\n",
    "        else:\n",
    "            b = p\n",
    "            fb = fp\n",
    "    \n",
    "    print (\"Method failed after \", max_iterations, \" iterations.\")\n",
    "    return False"
   ]
  },
  {
   "cell_type": "markdown",
   "metadata": {},
   "source": [
    "### Example 1\n",
    "Show that f(x) = x³ + 4x² − 10 = 0 has a root in [1,2], and use the Bisection method to determine an approximation to the root that is accurate to at least within 10⁻⁴ "
   ]
  },
  {
   "cell_type": "code",
   "execution_count": 4,
   "metadata": {
    "collapsed": false
   },
   "outputs": [],
   "source": [
    "def f(x):\n",
    "    return pow(x, 3) + 4 * pow(x, 2) - 10"
   ]
  },
  {
   "cell_type": "code",
   "execution_count": 5,
   "metadata": {
    "collapsed": false
   },
   "outputs": [
    {
     "data": {
      "text/html": [
       "<div>\n",
       "<table border=\"1\" class=\"dataframe\">\n",
       "  <thead>\n",
       "    <tr style=\"text-align: right;\">\n",
       "      <th></th>\n",
       "      <th>a</th>\n",
       "      <th>f(a)</th>\n",
       "      <th>b</th>\n",
       "      <th>f(b)</th>\n",
       "      <th>p</th>\n",
       "      <th>f(p)</th>\n",
       "    </tr>\n",
       "  </thead>\n",
       "  <tbody>\n",
       "    <tr>\n",
       "      <th>1</th>\n",
       "      <td>1.000000</td>\n",
       "      <td>-5.000000</td>\n",
       "      <td>2.000000</td>\n",
       "      <td>14.000000</td>\n",
       "      <td>1.500000</td>\n",
       "      <td>2.375000</td>\n",
       "    </tr>\n",
       "    <tr>\n",
       "      <th>2</th>\n",
       "      <td>1.000000</td>\n",
       "      <td>-5.000000</td>\n",
       "      <td>1.500000</td>\n",
       "      <td>2.375000</td>\n",
       "      <td>1.250000</td>\n",
       "      <td>-1.796875</td>\n",
       "    </tr>\n",
       "    <tr>\n",
       "      <th>3</th>\n",
       "      <td>1.250000</td>\n",
       "      <td>-1.796875</td>\n",
       "      <td>1.500000</td>\n",
       "      <td>2.375000</td>\n",
       "      <td>1.375000</td>\n",
       "      <td>0.162109</td>\n",
       "    </tr>\n",
       "    <tr>\n",
       "      <th>4</th>\n",
       "      <td>1.250000</td>\n",
       "      <td>-1.796875</td>\n",
       "      <td>1.375000</td>\n",
       "      <td>0.162109</td>\n",
       "      <td>1.312500</td>\n",
       "      <td>-0.848389</td>\n",
       "    </tr>\n",
       "    <tr>\n",
       "      <th>5</th>\n",
       "      <td>1.312500</td>\n",
       "      <td>-0.848389</td>\n",
       "      <td>1.375000</td>\n",
       "      <td>0.162109</td>\n",
       "      <td>1.343750</td>\n",
       "      <td>-0.350983</td>\n",
       "    </tr>\n",
       "    <tr>\n",
       "      <th>6</th>\n",
       "      <td>1.343750</td>\n",
       "      <td>-0.350983</td>\n",
       "      <td>1.375000</td>\n",
       "      <td>0.162109</td>\n",
       "      <td>1.359375</td>\n",
       "      <td>-0.096409</td>\n",
       "    </tr>\n",
       "    <tr>\n",
       "      <th>7</th>\n",
       "      <td>1.359375</td>\n",
       "      <td>-0.096409</td>\n",
       "      <td>1.375000</td>\n",
       "      <td>0.162109</td>\n",
       "      <td>1.367188</td>\n",
       "      <td>0.032356</td>\n",
       "    </tr>\n",
       "    <tr>\n",
       "      <th>8</th>\n",
       "      <td>1.359375</td>\n",
       "      <td>-0.096409</td>\n",
       "      <td>1.367188</td>\n",
       "      <td>0.032356</td>\n",
       "      <td>1.363281</td>\n",
       "      <td>-0.032150</td>\n",
       "    </tr>\n",
       "    <tr>\n",
       "      <th>9</th>\n",
       "      <td>1.363281</td>\n",
       "      <td>-0.032150</td>\n",
       "      <td>1.367188</td>\n",
       "      <td>0.032356</td>\n",
       "      <td>1.365234</td>\n",
       "      <td>0.000072</td>\n",
       "    </tr>\n",
       "    <tr>\n",
       "      <th>10</th>\n",
       "      <td>1.363281</td>\n",
       "      <td>-0.032150</td>\n",
       "      <td>1.365234</td>\n",
       "      <td>0.000072</td>\n",
       "      <td>1.364258</td>\n",
       "      <td>-0.016047</td>\n",
       "    </tr>\n",
       "    <tr>\n",
       "      <th>11</th>\n",
       "      <td>1.364258</td>\n",
       "      <td>-0.016047</td>\n",
       "      <td>1.365234</td>\n",
       "      <td>0.000072</td>\n",
       "      <td>1.364746</td>\n",
       "      <td>-0.007989</td>\n",
       "    </tr>\n",
       "    <tr>\n",
       "      <th>12</th>\n",
       "      <td>1.364746</td>\n",
       "      <td>-0.007989</td>\n",
       "      <td>1.365234</td>\n",
       "      <td>0.000072</td>\n",
       "      <td>1.364990</td>\n",
       "      <td>-0.003959</td>\n",
       "    </tr>\n",
       "    <tr>\n",
       "      <th>13</th>\n",
       "      <td>1.364990</td>\n",
       "      <td>-0.003959</td>\n",
       "      <td>1.365234</td>\n",
       "      <td>0.000072</td>\n",
       "      <td>1.365112</td>\n",
       "      <td>-0.001944</td>\n",
       "    </tr>\n",
       "    <tr>\n",
       "      <th>14</th>\n",
       "      <td>1.365112</td>\n",
       "      <td>-0.001944</td>\n",
       "      <td>1.365234</td>\n",
       "      <td>0.000072</td>\n",
       "      <td>1.365173</td>\n",
       "      <td>-0.000936</td>\n",
       "    </tr>\n",
       "  </tbody>\n",
       "</table>\n",
       "</div>"
      ],
      "text/plain": [
       "           a      f(a)         b       f(b)         p      f(p)\n",
       "1   1.000000 -5.000000  2.000000  14.000000  1.500000  2.375000\n",
       "2   1.000000 -5.000000  1.500000   2.375000  1.250000 -1.796875\n",
       "3   1.250000 -1.796875  1.500000   2.375000  1.375000  0.162109\n",
       "4   1.250000 -1.796875  1.375000   0.162109  1.312500 -0.848389\n",
       "5   1.312500 -0.848389  1.375000   0.162109  1.343750 -0.350983\n",
       "6   1.343750 -0.350983  1.375000   0.162109  1.359375 -0.096409\n",
       "7   1.359375 -0.096409  1.375000   0.162109  1.367188  0.032356\n",
       "8   1.359375 -0.096409  1.367188   0.032356  1.363281 -0.032150\n",
       "9   1.363281 -0.032150  1.367188   0.032356  1.365234  0.000072\n",
       "10  1.363281 -0.032150  1.365234   0.000072  1.364258 -0.016047\n",
       "11  1.364258 -0.016047  1.365234   0.000072  1.364746 -0.007989\n",
       "12  1.364746 -0.007989  1.365234   0.000072  1.364990 -0.003959\n",
       "13  1.364990 -0.003959  1.365234   0.000072  1.365112 -0.001944\n",
       "14  1.365112 -0.001944  1.365234   0.000072  1.365173 -0.000936"
      ]
     },
     "execution_count": 5,
     "metadata": {},
     "output_type": "execute_result"
    }
   ],
   "source": [
    "Bisection(1, 2, f, pow(10, -4), output=\"table\")"
   ]
  },
  {
   "cell_type": "code",
   "execution_count": 6,
   "metadata": {
    "collapsed": false
   },
   "outputs": [
    {
     "name": "stdout",
     "output_type": "stream",
     "text": [
      "The answer is :  1.36517334\n"
     ]
    }
   ],
   "source": [
    "print(\"The answer is : \" , Bisection(1, 2, f, pow(10, -4), output=\"answer\"))"
   ]
  },
  {
   "cell_type": "markdown",
   "metadata": {},
   "source": [
    "# Exercise Set 2.1"
   ]
  },
  {
   "cell_type": "markdown",
   "metadata": {
    "collapsed": true
   },
   "source": [
    "### (1) Use the Bisection method to find p₃ for f(x) = √x − cosx on [0,1]."
   ]
  },
  {
   "cell_type": "code",
   "execution_count": 7,
   "metadata": {
    "collapsed": true
   },
   "outputs": [],
   "source": [
    "import math\n",
    "def f(x):\n",
    "    return math.sqrt(x) - math.cos(x)"
   ]
  },
  {
   "cell_type": "code",
   "execution_count": 8,
   "metadata": {
    "collapsed": false
   },
   "outputs": [
    {
     "data": {
      "text/html": [
       "<div>\n",
       "<table border=\"1\" class=\"dataframe\">\n",
       "  <thead>\n",
       "    <tr style=\"text-align: right;\">\n",
       "      <th></th>\n",
       "      <th>a</th>\n",
       "      <th>f(a)</th>\n",
       "      <th>b</th>\n",
       "      <th>f(b)</th>\n",
       "      <th>p</th>\n",
       "      <th>f(p)</th>\n",
       "    </tr>\n",
       "  </thead>\n",
       "  <tbody>\n",
       "    <tr>\n",
       "      <th>1</th>\n",
       "      <td>0.0</td>\n",
       "      <td>-1.000000</td>\n",
       "      <td>1.00</td>\n",
       "      <td>0.459698</td>\n",
       "      <td>0.500</td>\n",
       "      <td>-0.170476</td>\n",
       "    </tr>\n",
       "    <tr>\n",
       "      <th>2</th>\n",
       "      <td>0.5</td>\n",
       "      <td>-0.170476</td>\n",
       "      <td>1.00</td>\n",
       "      <td>0.459698</td>\n",
       "      <td>0.750</td>\n",
       "      <td>0.134337</td>\n",
       "    </tr>\n",
       "    <tr>\n",
       "      <th>3</th>\n",
       "      <td>0.5</td>\n",
       "      <td>-0.170476</td>\n",
       "      <td>0.75</td>\n",
       "      <td>0.134337</td>\n",
       "      <td>0.625</td>\n",
       "      <td>-0.020394</td>\n",
       "    </tr>\n",
       "  </tbody>\n",
       "</table>\n",
       "</div>"
      ],
      "text/plain": [
       "     a      f(a)     b      f(b)      p      f(p)\n",
       "1  0.0 -1.000000  1.00  0.459698  0.500 -0.170476\n",
       "2  0.5 -0.170476  1.00  0.459698  0.750  0.134337\n",
       "3  0.5 -0.170476  0.75  0.134337  0.625 -0.020394"
      ]
     },
     "execution_count": 8,
     "metadata": {},
     "output_type": "execute_result"
    }
   ],
   "source": [
    "Bisection(0, 1, f, output=\"table\", stopping_criterion='iteration', iteration=3)"
   ]
  },
  {
   "cell_type": "code",
   "execution_count": 9,
   "metadata": {
    "collapsed": false
   },
   "outputs": [
    {
     "name": "stdout",
     "output_type": "stream",
     "text": [
      "The answer is :  0.625\n"
     ]
    }
   ],
   "source": [
    "print(\"The answer is : \" , Bisection(0, 1, f, output=\"answer\", stopping_criterion='iteration', iteration=3))"
   ]
  },
  {
   "cell_type": "markdown",
   "metadata": {},
   "source": [
    "### (2) Let f(x) = 3(x + 1)(x −1/2)(x − 1). Use the Bisection method on the following intervals to find p₃"
   ]
  },
  {
   "cell_type": "code",
   "execution_count": 10,
   "metadata": {
    "collapsed": true
   },
   "outputs": [],
   "source": [
    "def f(x):\n",
    "    return 3*(x + 1)*(x-(1/2))*(x-1)"
   ]
  },
  {
   "cell_type": "markdown",
   "metadata": {},
   "source": [
    "#### a. [-2, 1.5]"
   ]
  },
  {
   "cell_type": "code",
   "execution_count": 11,
   "metadata": {
    "collapsed": false
   },
   "outputs": [
    {
     "data": {
      "text/html": [
       "<div>\n",
       "<table border=\"1\" class=\"dataframe\">\n",
       "  <thead>\n",
       "    <tr style=\"text-align: right;\">\n",
       "      <th></th>\n",
       "      <th>a</th>\n",
       "      <th>f(a)</th>\n",
       "      <th>b</th>\n",
       "      <th>f(b)</th>\n",
       "      <th>p</th>\n",
       "      <th>f(p)</th>\n",
       "    </tr>\n",
       "  </thead>\n",
       "  <tbody>\n",
       "    <tr>\n",
       "      <th>1</th>\n",
       "      <td>-2.000</td>\n",
       "      <td>-22.500000</td>\n",
       "      <td>1.50</td>\n",
       "      <td>3.750000</td>\n",
       "      <td>-0.2500</td>\n",
       "      <td>2.109375</td>\n",
       "    </tr>\n",
       "    <tr>\n",
       "      <th>2</th>\n",
       "      <td>-2.000</td>\n",
       "      <td>-22.500000</td>\n",
       "      <td>-0.25</td>\n",
       "      <td>2.109375</td>\n",
       "      <td>-1.1250</td>\n",
       "      <td>-1.294922</td>\n",
       "    </tr>\n",
       "    <tr>\n",
       "      <th>3</th>\n",
       "      <td>-1.125</td>\n",
       "      <td>-1.294922</td>\n",
       "      <td>-0.25</td>\n",
       "      <td>2.109375</td>\n",
       "      <td>-0.6875</td>\n",
       "      <td>1.878662</td>\n",
       "    </tr>\n",
       "  </tbody>\n",
       "</table>\n",
       "</div>"
      ],
      "text/plain": [
       "       a       f(a)     b      f(b)       p      f(p)\n",
       "1 -2.000 -22.500000  1.50  3.750000 -0.2500  2.109375\n",
       "2 -2.000 -22.500000 -0.25  2.109375 -1.1250 -1.294922\n",
       "3 -1.125  -1.294922 -0.25  2.109375 -0.6875  1.878662"
      ]
     },
     "execution_count": 11,
     "metadata": {},
     "output_type": "execute_result"
    }
   ],
   "source": [
    "Bisection(-2, 1.5, f, output=\"table\", stopping_criterion='iteration', iteration=3)"
   ]
  },
  {
   "cell_type": "code",
   "execution_count": 12,
   "metadata": {
    "collapsed": false
   },
   "outputs": [
    {
     "name": "stdout",
     "output_type": "stream",
     "text": [
      "The answer is :  -0.6875\n"
     ]
    }
   ],
   "source": [
    "print(\"The answer is : \" , Bisection(-2, 1.5, f, output=\"answer\", stopping_criterion='iteration', iteration=3))"
   ]
  },
  {
   "cell_type": "markdown",
   "metadata": {},
   "source": [
    "#### b. [−1.25,2.5]"
   ]
  },
  {
   "cell_type": "code",
   "execution_count": 13,
   "metadata": {
    "collapsed": false
   },
   "outputs": [
    {
     "data": {
      "text/html": [
       "<div>\n",
       "<table border=\"1\" class=\"dataframe\">\n",
       "  <thead>\n",
       "    <tr style=\"text-align: right;\">\n",
       "      <th></th>\n",
       "      <th>a</th>\n",
       "      <th>f(a)</th>\n",
       "      <th>b</th>\n",
       "      <th>f(b)</th>\n",
       "      <th>p</th>\n",
       "      <th>f(p)</th>\n",
       "    </tr>\n",
       "  </thead>\n",
       "  <tbody>\n",
       "    <tr>\n",
       "      <th>1</th>\n",
       "      <td>-1.250</td>\n",
       "      <td>-2.953125</td>\n",
       "      <td>2.5000</td>\n",
       "      <td>31.500000</td>\n",
       "      <td>0.62500</td>\n",
       "      <td>-0.228516</td>\n",
       "    </tr>\n",
       "    <tr>\n",
       "      <th>2</th>\n",
       "      <td>0.625</td>\n",
       "      <td>-0.228516</td>\n",
       "      <td>2.5000</td>\n",
       "      <td>31.500000</td>\n",
       "      <td>1.56250</td>\n",
       "      <td>4.594482</td>\n",
       "    </tr>\n",
       "    <tr>\n",
       "      <th>3</th>\n",
       "      <td>0.625</td>\n",
       "      <td>-0.228516</td>\n",
       "      <td>1.5625</td>\n",
       "      <td>4.594482</td>\n",
       "      <td>1.09375</td>\n",
       "      <td>0.349640</td>\n",
       "    </tr>\n",
       "  </tbody>\n",
       "</table>\n",
       "</div>"
      ],
      "text/plain": [
       "       a      f(a)       b       f(b)        p      f(p)\n",
       "1 -1.250 -2.953125  2.5000  31.500000  0.62500 -0.228516\n",
       "2  0.625 -0.228516  2.5000  31.500000  1.56250  4.594482\n",
       "3  0.625 -0.228516  1.5625   4.594482  1.09375  0.349640"
      ]
     },
     "execution_count": 13,
     "metadata": {},
     "output_type": "execute_result"
    }
   ],
   "source": [
    "Bisection(-1.25, 2.5, f, output=\"table\", stopping_criterion='iteration', iteration=3)"
   ]
  },
  {
   "cell_type": "code",
   "execution_count": 14,
   "metadata": {
    "collapsed": false
   },
   "outputs": [
    {
     "name": "stdout",
     "output_type": "stream",
     "text": [
      "The answer is :  1.09375\n"
     ]
    }
   ],
   "source": [
    "print(\"The answer is : \" , Bisection(-1.25, 2.5, f, output=\"answer\", stopping_criterion='iteration', iteration=3))"
   ]
  },
  {
   "cell_type": "markdown",
   "metadata": {},
   "source": [
    "### (3) Use the Bisection method to find solutions accurate to within 10⁻² for x³ − 7x² + 14x − 6 = 0 on each interval."
   ]
  },
  {
   "cell_type": "code",
   "execution_count": 15,
   "metadata": {
    "collapsed": true
   },
   "outputs": [],
   "source": [
    "def f(x):\n",
    "    return pow(x, 3) - 7*pow(x, 2) + 14*x - 6"
   ]
  },
  {
   "cell_type": "markdown",
   "metadata": {},
   "source": [
    "#### a. [0,1] "
   ]
  },
  {
   "cell_type": "code",
   "execution_count": 16,
   "metadata": {
    "collapsed": false
   },
   "outputs": [
    {
     "data": {
      "text/html": [
       "<div>\n",
       "<table border=\"1\" class=\"dataframe\">\n",
       "  <thead>\n",
       "    <tr style=\"text-align: right;\">\n",
       "      <th></th>\n",
       "      <th>a</th>\n",
       "      <th>f(a)</th>\n",
       "      <th>b</th>\n",
       "      <th>f(b)</th>\n",
       "      <th>p</th>\n",
       "      <th>f(p)</th>\n",
       "    </tr>\n",
       "  </thead>\n",
       "  <tbody>\n",
       "    <tr>\n",
       "      <th>1</th>\n",
       "      <td>0.000000</td>\n",
       "      <td>-6.000000</td>\n",
       "      <td>1.00000</td>\n",
       "      <td>2.000000</td>\n",
       "      <td>0.500000</td>\n",
       "      <td>-0.625000</td>\n",
       "    </tr>\n",
       "    <tr>\n",
       "      <th>2</th>\n",
       "      <td>0.500000</td>\n",
       "      <td>-0.625000</td>\n",
       "      <td>1.00000</td>\n",
       "      <td>2.000000</td>\n",
       "      <td>0.750000</td>\n",
       "      <td>0.984375</td>\n",
       "    </tr>\n",
       "    <tr>\n",
       "      <th>3</th>\n",
       "      <td>0.500000</td>\n",
       "      <td>-0.625000</td>\n",
       "      <td>0.75000</td>\n",
       "      <td>0.984375</td>\n",
       "      <td>0.625000</td>\n",
       "      <td>0.259766</td>\n",
       "    </tr>\n",
       "    <tr>\n",
       "      <th>4</th>\n",
       "      <td>0.500000</td>\n",
       "      <td>-0.625000</td>\n",
       "      <td>0.62500</td>\n",
       "      <td>0.259766</td>\n",
       "      <td>0.562500</td>\n",
       "      <td>-0.161865</td>\n",
       "    </tr>\n",
       "    <tr>\n",
       "      <th>5</th>\n",
       "      <td>0.562500</td>\n",
       "      <td>-0.161865</td>\n",
       "      <td>0.62500</td>\n",
       "      <td>0.259766</td>\n",
       "      <td>0.593750</td>\n",
       "      <td>0.054047</td>\n",
       "    </tr>\n",
       "    <tr>\n",
       "      <th>6</th>\n",
       "      <td>0.562500</td>\n",
       "      <td>-0.161865</td>\n",
       "      <td>0.59375</td>\n",
       "      <td>0.054047</td>\n",
       "      <td>0.578125</td>\n",
       "      <td>-0.052624</td>\n",
       "    </tr>\n",
       "    <tr>\n",
       "      <th>7</th>\n",
       "      <td>0.578125</td>\n",
       "      <td>-0.052624</td>\n",
       "      <td>0.59375</td>\n",
       "      <td>0.054047</td>\n",
       "      <td>0.585938</td>\n",
       "      <td>0.001031</td>\n",
       "    </tr>\n",
       "  </tbody>\n",
       "</table>\n",
       "</div>"
      ],
      "text/plain": [
       "          a      f(a)        b      f(b)         p      f(p)\n",
       "1  0.000000 -6.000000  1.00000  2.000000  0.500000 -0.625000\n",
       "2  0.500000 -0.625000  1.00000  2.000000  0.750000  0.984375\n",
       "3  0.500000 -0.625000  0.75000  0.984375  0.625000  0.259766\n",
       "4  0.500000 -0.625000  0.62500  0.259766  0.562500 -0.161865\n",
       "5  0.562500 -0.161865  0.62500  0.259766  0.593750  0.054047\n",
       "6  0.562500 -0.161865  0.59375  0.054047  0.578125 -0.052624\n",
       "7  0.578125 -0.052624  0.59375  0.054047  0.585938  0.001031"
      ]
     },
     "execution_count": 16,
     "metadata": {},
     "output_type": "execute_result"
    }
   ],
   "source": [
    "Bisection(0, 1, f, tolerance=pow(10, -2), output=\"table\")"
   ]
  },
  {
   "cell_type": "code",
   "execution_count": 17,
   "metadata": {
    "collapsed": false
   },
   "outputs": [
    {
     "name": "stdout",
     "output_type": "stream",
     "text": [
      "The answer is :  0.5859375\n"
     ]
    }
   ],
   "source": [
    "print(\"The answer is : \" , Bisection(0, 1, f, tolerance=pow(10, -2), output=\"answer\"))"
   ]
  },
  {
   "cell_type": "markdown",
   "metadata": {},
   "source": [
    "#### b. [1,3.2]"
   ]
  },
  {
   "cell_type": "code",
   "execution_count": 18,
   "metadata": {
    "collapsed": false
   },
   "outputs": [
    {
     "data": {
      "text/html": [
       "<div>\n",
       "<table border=\"1\" class=\"dataframe\">\n",
       "  <thead>\n",
       "    <tr style=\"text-align: right;\">\n",
       "      <th></th>\n",
       "      <th>a</th>\n",
       "      <th>f(a)</th>\n",
       "      <th>b</th>\n",
       "      <th>f(b)</th>\n",
       "      <th>p</th>\n",
       "      <th>f(p)</th>\n",
       "    </tr>\n",
       "  </thead>\n",
       "  <tbody>\n",
       "    <tr>\n",
       "      <th>1</th>\n",
       "      <td>1.00000</td>\n",
       "      <td>2.000000</td>\n",
       "      <td>3.200000</td>\n",
       "      <td>-0.112000</td>\n",
       "      <td>2.100000</td>\n",
       "      <td>1.791000</td>\n",
       "    </tr>\n",
       "    <tr>\n",
       "      <th>2</th>\n",
       "      <td>2.10000</td>\n",
       "      <td>1.791000</td>\n",
       "      <td>3.200000</td>\n",
       "      <td>-0.112000</td>\n",
       "      <td>2.650000</td>\n",
       "      <td>0.552125</td>\n",
       "    </tr>\n",
       "    <tr>\n",
       "      <th>3</th>\n",
       "      <td>2.65000</td>\n",
       "      <td>0.552125</td>\n",
       "      <td>3.200000</td>\n",
       "      <td>-0.112000</td>\n",
       "      <td>2.925000</td>\n",
       "      <td>0.085828</td>\n",
       "    </tr>\n",
       "    <tr>\n",
       "      <th>4</th>\n",
       "      <td>2.92500</td>\n",
       "      <td>0.085828</td>\n",
       "      <td>3.200000</td>\n",
       "      <td>-0.112000</td>\n",
       "      <td>3.062500</td>\n",
       "      <td>-0.054443</td>\n",
       "    </tr>\n",
       "    <tr>\n",
       "      <th>5</th>\n",
       "      <td>2.92500</td>\n",
       "      <td>0.085828</td>\n",
       "      <td>3.062500</td>\n",
       "      <td>-0.054443</td>\n",
       "      <td>2.993750</td>\n",
       "      <td>0.006328</td>\n",
       "    </tr>\n",
       "    <tr>\n",
       "      <th>6</th>\n",
       "      <td>2.99375</td>\n",
       "      <td>0.006328</td>\n",
       "      <td>3.062500</td>\n",
       "      <td>-0.054443</td>\n",
       "      <td>3.028125</td>\n",
       "      <td>-0.026521</td>\n",
       "    </tr>\n",
       "    <tr>\n",
       "      <th>7</th>\n",
       "      <td>2.99375</td>\n",
       "      <td>0.006328</td>\n",
       "      <td>3.028125</td>\n",
       "      <td>-0.026521</td>\n",
       "      <td>3.010937</td>\n",
       "      <td>-0.010697</td>\n",
       "    </tr>\n",
       "    <tr>\n",
       "      <th>8</th>\n",
       "      <td>2.99375</td>\n",
       "      <td>0.006328</td>\n",
       "      <td>3.010937</td>\n",
       "      <td>-0.010697</td>\n",
       "      <td>3.002344</td>\n",
       "      <td>-0.002333</td>\n",
       "    </tr>\n",
       "  </tbody>\n",
       "</table>\n",
       "</div>"
      ],
      "text/plain": [
       "         a      f(a)         b      f(b)         p      f(p)\n",
       "1  1.00000  2.000000  3.200000 -0.112000  2.100000  1.791000\n",
       "2  2.10000  1.791000  3.200000 -0.112000  2.650000  0.552125\n",
       "3  2.65000  0.552125  3.200000 -0.112000  2.925000  0.085828\n",
       "4  2.92500  0.085828  3.200000 -0.112000  3.062500 -0.054443\n",
       "5  2.92500  0.085828  3.062500 -0.054443  2.993750  0.006328\n",
       "6  2.99375  0.006328  3.062500 -0.054443  3.028125 -0.026521\n",
       "7  2.99375  0.006328  3.028125 -0.026521  3.010937 -0.010697\n",
       "8  2.99375  0.006328  3.010937 -0.010697  3.002344 -0.002333"
      ]
     },
     "execution_count": 18,
     "metadata": {},
     "output_type": "execute_result"
    }
   ],
   "source": [
    "Bisection(1, 3.2, f, tolerance=pow(10, -2), output=\"table\")"
   ]
  },
  {
   "cell_type": "code",
   "execution_count": 19,
   "metadata": {
    "collapsed": false
   },
   "outputs": [
    {
     "name": "stdout",
     "output_type": "stream",
     "text": [
      "The answer is :  3.00234375\n"
     ]
    }
   ],
   "source": [
    "print(\"The answer is : \" , Bisection(1, 3.2, f, tolerance=pow(10, -2), output=\"answer\"))"
   ]
  },
  {
   "cell_type": "markdown",
   "metadata": {},
   "source": [
    "#### c. [3.2,4]"
   ]
  },
  {
   "cell_type": "code",
   "execution_count": 20,
   "metadata": {
    "collapsed": false
   },
   "outputs": [
    {
     "data": {
      "text/html": [
       "<div>\n",
       "<table border=\"1\" class=\"dataframe\">\n",
       "  <thead>\n",
       "    <tr style=\"text-align: right;\">\n",
       "      <th></th>\n",
       "      <th>a</th>\n",
       "      <th>f(a)</th>\n",
       "      <th>b</th>\n",
       "      <th>f(b)</th>\n",
       "      <th>p</th>\n",
       "      <th>f(p)</th>\n",
       "    </tr>\n",
       "  </thead>\n",
       "  <tbody>\n",
       "    <tr>\n",
       "      <th>1</th>\n",
       "      <td>3.2000</td>\n",
       "      <td>-0.112000</td>\n",
       "      <td>4.000</td>\n",
       "      <td>2.000000</td>\n",
       "      <td>3.60000</td>\n",
       "      <td>0.336000</td>\n",
       "    </tr>\n",
       "    <tr>\n",
       "      <th>2</th>\n",
       "      <td>3.2000</td>\n",
       "      <td>-0.112000</td>\n",
       "      <td>3.600</td>\n",
       "      <td>0.336000</td>\n",
       "      <td>3.40000</td>\n",
       "      <td>-0.016000</td>\n",
       "    </tr>\n",
       "    <tr>\n",
       "      <th>3</th>\n",
       "      <td>3.4000</td>\n",
       "      <td>-0.016000</td>\n",
       "      <td>3.600</td>\n",
       "      <td>0.336000</td>\n",
       "      <td>3.50000</td>\n",
       "      <td>0.125000</td>\n",
       "    </tr>\n",
       "    <tr>\n",
       "      <th>4</th>\n",
       "      <td>3.4000</td>\n",
       "      <td>-0.016000</td>\n",
       "      <td>3.500</td>\n",
       "      <td>0.125000</td>\n",
       "      <td>3.45000</td>\n",
       "      <td>0.046125</td>\n",
       "    </tr>\n",
       "    <tr>\n",
       "      <th>5</th>\n",
       "      <td>3.4000</td>\n",
       "      <td>-0.016000</td>\n",
       "      <td>3.450</td>\n",
       "      <td>0.046125</td>\n",
       "      <td>3.42500</td>\n",
       "      <td>0.013016</td>\n",
       "    </tr>\n",
       "    <tr>\n",
       "      <th>6</th>\n",
       "      <td>3.4000</td>\n",
       "      <td>-0.016000</td>\n",
       "      <td>3.425</td>\n",
       "      <td>0.013016</td>\n",
       "      <td>3.41250</td>\n",
       "      <td>-0.001998</td>\n",
       "    </tr>\n",
       "    <tr>\n",
       "      <th>7</th>\n",
       "      <td>3.4125</td>\n",
       "      <td>-0.001998</td>\n",
       "      <td>3.425</td>\n",
       "      <td>0.013016</td>\n",
       "      <td>3.41875</td>\n",
       "      <td>0.005382</td>\n",
       "    </tr>\n",
       "  </tbody>\n",
       "</table>\n",
       "</div>"
      ],
      "text/plain": [
       "        a      f(a)      b      f(b)        p      f(p)\n",
       "1  3.2000 -0.112000  4.000  2.000000  3.60000  0.336000\n",
       "2  3.2000 -0.112000  3.600  0.336000  3.40000 -0.016000\n",
       "3  3.4000 -0.016000  3.600  0.336000  3.50000  0.125000\n",
       "4  3.4000 -0.016000  3.500  0.125000  3.45000  0.046125\n",
       "5  3.4000 -0.016000  3.450  0.046125  3.42500  0.013016\n",
       "6  3.4000 -0.016000  3.425  0.013016  3.41250 -0.001998\n",
       "7  3.4125 -0.001998  3.425  0.013016  3.41875  0.005382"
      ]
     },
     "execution_count": 20,
     "metadata": {},
     "output_type": "execute_result"
    }
   ],
   "source": [
    "Bisection(3.2, 4, f, tolerance=pow(10, -2), output=\"table\")"
   ]
  },
  {
   "cell_type": "code",
   "execution_count": 21,
   "metadata": {
    "collapsed": false
   },
   "outputs": [
    {
     "name": "stdout",
     "output_type": "stream",
     "text": [
      "The answer is :  3.41875\n"
     ]
    }
   ],
   "source": [
    "print(\"The answer is : \" , Bisection(3.2, 4, f, tolerance=pow(10, -2), output=\"answer\"))"
   ]
  },
  {
   "cell_type": "markdown",
   "metadata": {
    "collapsed": true
   },
   "source": [
    "### (4) Use the Bisection method to find solutions accurate to within 10⁻² for x⁴ − 2x³ − 4x² + 4x + 4 = 0 on each interval."
   ]
  },
  {
   "cell_type": "code",
   "execution_count": 22,
   "metadata": {
    "collapsed": true
   },
   "outputs": [],
   "source": [
    "def f(x):\n",
    "    return pow(x, 4) - 2*pow(x, 3) - 4*pow(x, 2) + 4*x + 4"
   ]
  },
  {
   "cell_type": "markdown",
   "metadata": {},
   "source": [
    "#### a. [−2,−1] "
   ]
  },
  {
   "cell_type": "code",
   "execution_count": 23,
   "metadata": {
    "collapsed": false
   },
   "outputs": [
    {
     "data": {
      "text/html": [
       "<div>\n",
       "<table border=\"1\" class=\"dataframe\">\n",
       "  <thead>\n",
       "    <tr style=\"text-align: right;\">\n",
       "      <th></th>\n",
       "      <th>a</th>\n",
       "      <th>f(a)</th>\n",
       "      <th>b</th>\n",
       "      <th>f(b)</th>\n",
       "      <th>p</th>\n",
       "      <th>f(p)</th>\n",
       "    </tr>\n",
       "  </thead>\n",
       "  <tbody>\n",
       "    <tr>\n",
       "      <th>1</th>\n",
       "      <td>-2.000000</td>\n",
       "      <td>12.000000</td>\n",
       "      <td>-1.00000</td>\n",
       "      <td>-1.000000</td>\n",
       "      <td>-1.500000</td>\n",
       "      <td>0.812500</td>\n",
       "    </tr>\n",
       "    <tr>\n",
       "      <th>2</th>\n",
       "      <td>-1.500000</td>\n",
       "      <td>0.812500</td>\n",
       "      <td>-1.00000</td>\n",
       "      <td>-1.000000</td>\n",
       "      <td>-1.250000</td>\n",
       "      <td>-0.902344</td>\n",
       "    </tr>\n",
       "    <tr>\n",
       "      <th>3</th>\n",
       "      <td>-1.500000</td>\n",
       "      <td>0.812500</td>\n",
       "      <td>-1.25000</td>\n",
       "      <td>-0.902344</td>\n",
       "      <td>-1.375000</td>\n",
       "      <td>-0.288818</td>\n",
       "    </tr>\n",
       "    <tr>\n",
       "      <th>4</th>\n",
       "      <td>-1.500000</td>\n",
       "      <td>0.812500</td>\n",
       "      <td>-1.37500</td>\n",
       "      <td>-0.288818</td>\n",
       "      <td>-1.437500</td>\n",
       "      <td>0.195328</td>\n",
       "    </tr>\n",
       "    <tr>\n",
       "      <th>5</th>\n",
       "      <td>-1.437500</td>\n",
       "      <td>0.195328</td>\n",
       "      <td>-1.37500</td>\n",
       "      <td>-0.288818</td>\n",
       "      <td>-1.406250</td>\n",
       "      <td>-0.062667</td>\n",
       "    </tr>\n",
       "    <tr>\n",
       "      <th>6</th>\n",
       "      <td>-1.437500</td>\n",
       "      <td>0.195328</td>\n",
       "      <td>-1.40625</td>\n",
       "      <td>-0.062667</td>\n",
       "      <td>-1.421875</td>\n",
       "      <td>0.062263</td>\n",
       "    </tr>\n",
       "    <tr>\n",
       "      <th>7</th>\n",
       "      <td>-1.421875</td>\n",
       "      <td>0.062263</td>\n",
       "      <td>-1.40625</td>\n",
       "      <td>-0.062667</td>\n",
       "      <td>-1.414062</td>\n",
       "      <td>-0.001208</td>\n",
       "    </tr>\n",
       "  </tbody>\n",
       "</table>\n",
       "</div>"
      ],
      "text/plain": [
       "          a       f(a)        b      f(b)         p      f(p)\n",
       "1 -2.000000  12.000000 -1.00000 -1.000000 -1.500000  0.812500\n",
       "2 -1.500000   0.812500 -1.00000 -1.000000 -1.250000 -0.902344\n",
       "3 -1.500000   0.812500 -1.25000 -0.902344 -1.375000 -0.288818\n",
       "4 -1.500000   0.812500 -1.37500 -0.288818 -1.437500  0.195328\n",
       "5 -1.437500   0.195328 -1.37500 -0.288818 -1.406250 -0.062667\n",
       "6 -1.437500   0.195328 -1.40625 -0.062667 -1.421875  0.062263\n",
       "7 -1.421875   0.062263 -1.40625 -0.062667 -1.414062 -0.001208"
      ]
     },
     "execution_count": 23,
     "metadata": {},
     "output_type": "execute_result"
    }
   ],
   "source": [
    "Bisection(-2, -1, f, tolerance=pow(10, -2), output=\"table\")"
   ]
  },
  {
   "cell_type": "code",
   "execution_count": 24,
   "metadata": {
    "collapsed": false
   },
   "outputs": [
    {
     "name": "stdout",
     "output_type": "stream",
     "text": [
      "The answer is :  -1.4140625\n"
     ]
    }
   ],
   "source": [
    "print(\"The answer is : \" , Bisection(-2, -1, f, tolerance=pow(10, -2), output=\"answer\"))"
   ]
  },
  {
   "cell_type": "markdown",
   "metadata": {},
   "source": [
    "#### b. [0,2]"
   ]
  },
  {
   "cell_type": "code",
   "execution_count": 25,
   "metadata": {
    "collapsed": false
   },
   "outputs": [
    {
     "data": {
      "text/html": [
       "<div>\n",
       "<table border=\"1\" class=\"dataframe\">\n",
       "  <thead>\n",
       "    <tr style=\"text-align: right;\">\n",
       "      <th></th>\n",
       "      <th>a</th>\n",
       "      <th>f(a)</th>\n",
       "      <th>b</th>\n",
       "      <th>f(b)</th>\n",
       "      <th>p</th>\n",
       "      <th>f(p)</th>\n",
       "    </tr>\n",
       "  </thead>\n",
       "  <tbody>\n",
       "    <tr>\n",
       "      <th>1</th>\n",
       "      <td>0.00000</td>\n",
       "      <td>4.000000</td>\n",
       "      <td>2.000000</td>\n",
       "      <td>-4.000000</td>\n",
       "      <td>1.000000</td>\n",
       "      <td>3.000000</td>\n",
       "    </tr>\n",
       "    <tr>\n",
       "      <th>2</th>\n",
       "      <td>1.00000</td>\n",
       "      <td>3.000000</td>\n",
       "      <td>2.000000</td>\n",
       "      <td>-4.000000</td>\n",
       "      <td>1.500000</td>\n",
       "      <td>-0.687500</td>\n",
       "    </tr>\n",
       "    <tr>\n",
       "      <th>3</th>\n",
       "      <td>1.00000</td>\n",
       "      <td>3.000000</td>\n",
       "      <td>1.500000</td>\n",
       "      <td>-0.687500</td>\n",
       "      <td>1.250000</td>\n",
       "      <td>1.285156</td>\n",
       "    </tr>\n",
       "    <tr>\n",
       "      <th>4</th>\n",
       "      <td>1.25000</td>\n",
       "      <td>1.285156</td>\n",
       "      <td>1.500000</td>\n",
       "      <td>-0.687500</td>\n",
       "      <td>1.375000</td>\n",
       "      <td>0.312744</td>\n",
       "    </tr>\n",
       "    <tr>\n",
       "      <th>5</th>\n",
       "      <td>1.37500</td>\n",
       "      <td>0.312744</td>\n",
       "      <td>1.500000</td>\n",
       "      <td>-0.687500</td>\n",
       "      <td>1.437500</td>\n",
       "      <td>-0.186508</td>\n",
       "    </tr>\n",
       "    <tr>\n",
       "      <th>6</th>\n",
       "      <td>1.37500</td>\n",
       "      <td>0.312744</td>\n",
       "      <td>1.437500</td>\n",
       "      <td>-0.186508</td>\n",
       "      <td>1.406250</td>\n",
       "      <td>0.063676</td>\n",
       "    </tr>\n",
       "    <tr>\n",
       "      <th>7</th>\n",
       "      <td>1.40625</td>\n",
       "      <td>0.063676</td>\n",
       "      <td>1.437500</td>\n",
       "      <td>-0.186508</td>\n",
       "      <td>1.421875</td>\n",
       "      <td>-0.061318</td>\n",
       "    </tr>\n",
       "    <tr>\n",
       "      <th>8</th>\n",
       "      <td>1.40625</td>\n",
       "      <td>0.063676</td>\n",
       "      <td>1.421875</td>\n",
       "      <td>-0.061318</td>\n",
       "      <td>1.414062</td>\n",
       "      <td>0.001208</td>\n",
       "    </tr>\n",
       "  </tbody>\n",
       "</table>\n",
       "</div>"
      ],
      "text/plain": [
       "         a      f(a)         b      f(b)         p      f(p)\n",
       "1  0.00000  4.000000  2.000000 -4.000000  1.000000  3.000000\n",
       "2  1.00000  3.000000  2.000000 -4.000000  1.500000 -0.687500\n",
       "3  1.00000  3.000000  1.500000 -0.687500  1.250000  1.285156\n",
       "4  1.25000  1.285156  1.500000 -0.687500  1.375000  0.312744\n",
       "5  1.37500  0.312744  1.500000 -0.687500  1.437500 -0.186508\n",
       "6  1.37500  0.312744  1.437500 -0.186508  1.406250  0.063676\n",
       "7  1.40625  0.063676  1.437500 -0.186508  1.421875 -0.061318\n",
       "8  1.40625  0.063676  1.421875 -0.061318  1.414062  0.001208"
      ]
     },
     "execution_count": 25,
     "metadata": {},
     "output_type": "execute_result"
    }
   ],
   "source": [
    "Bisection(0, 2, f, tolerance=pow(10, -2), output=\"table\")"
   ]
  },
  {
   "cell_type": "code",
   "execution_count": 26,
   "metadata": {
    "collapsed": false
   },
   "outputs": [
    {
     "name": "stdout",
     "output_type": "stream",
     "text": [
      "The answer is :  1.4140625\n"
     ]
    }
   ],
   "source": [
    "print(\"The answer is : \" , Bisection(0, 2, f, tolerance=pow(10, -2), output=\"answer\"))"
   ]
  },
  {
   "cell_type": "markdown",
   "metadata": {},
   "source": [
    "#### c. [2,3]"
   ]
  },
  {
   "cell_type": "code",
   "execution_count": 27,
   "metadata": {
    "collapsed": false
   },
   "outputs": [
    {
     "data": {
      "text/html": [
       "<div>\n",
       "<table border=\"1\" class=\"dataframe\">\n",
       "  <thead>\n",
       "    <tr style=\"text-align: right;\">\n",
       "      <th></th>\n",
       "      <th>a</th>\n",
       "      <th>f(a)</th>\n",
       "      <th>b</th>\n",
       "      <th>f(b)</th>\n",
       "      <th>p</th>\n",
       "      <th>f(p)</th>\n",
       "    </tr>\n",
       "  </thead>\n",
       "  <tbody>\n",
       "    <tr>\n",
       "      <th>1</th>\n",
       "      <td>2.00000</td>\n",
       "      <td>-4.000000</td>\n",
       "      <td>3.000000</td>\n",
       "      <td>7.000000</td>\n",
       "      <td>2.500000</td>\n",
       "      <td>-3.187500</td>\n",
       "    </tr>\n",
       "    <tr>\n",
       "      <th>2</th>\n",
       "      <td>2.50000</td>\n",
       "      <td>-3.187500</td>\n",
       "      <td>3.000000</td>\n",
       "      <td>7.000000</td>\n",
       "      <td>2.750000</td>\n",
       "      <td>0.347656</td>\n",
       "    </tr>\n",
       "    <tr>\n",
       "      <th>3</th>\n",
       "      <td>2.50000</td>\n",
       "      <td>-3.187500</td>\n",
       "      <td>2.750000</td>\n",
       "      <td>0.347656</td>\n",
       "      <td>2.625000</td>\n",
       "      <td>-1.757568</td>\n",
       "    </tr>\n",
       "    <tr>\n",
       "      <th>4</th>\n",
       "      <td>2.62500</td>\n",
       "      <td>-1.757568</td>\n",
       "      <td>2.750000</td>\n",
       "      <td>0.347656</td>\n",
       "      <td>2.687500</td>\n",
       "      <td>-0.795639</td>\n",
       "    </tr>\n",
       "    <tr>\n",
       "      <th>5</th>\n",
       "      <td>2.68750</td>\n",
       "      <td>-0.795639</td>\n",
       "      <td>2.750000</td>\n",
       "      <td>0.347656</td>\n",
       "      <td>2.718750</td>\n",
       "      <td>-0.247466</td>\n",
       "    </tr>\n",
       "    <tr>\n",
       "      <th>6</th>\n",
       "      <td>2.71875</td>\n",
       "      <td>-0.247466</td>\n",
       "      <td>2.750000</td>\n",
       "      <td>0.347656</td>\n",
       "      <td>2.734375</td>\n",
       "      <td>0.044125</td>\n",
       "    </tr>\n",
       "    <tr>\n",
       "      <th>7</th>\n",
       "      <td>2.71875</td>\n",
       "      <td>-0.247466</td>\n",
       "      <td>2.734375</td>\n",
       "      <td>0.044125</td>\n",
       "      <td>2.726562</td>\n",
       "      <td>-0.103151</td>\n",
       "    </tr>\n",
       "  </tbody>\n",
       "</table>\n",
       "</div>"
      ],
      "text/plain": [
       "         a      f(a)         b      f(b)         p      f(p)\n",
       "1  2.00000 -4.000000  3.000000  7.000000  2.500000 -3.187500\n",
       "2  2.50000 -3.187500  3.000000  7.000000  2.750000  0.347656\n",
       "3  2.50000 -3.187500  2.750000  0.347656  2.625000 -1.757568\n",
       "4  2.62500 -1.757568  2.750000  0.347656  2.687500 -0.795639\n",
       "5  2.68750 -0.795639  2.750000  0.347656  2.718750 -0.247466\n",
       "6  2.71875 -0.247466  2.750000  0.347656  2.734375  0.044125\n",
       "7  2.71875 -0.247466  2.734375  0.044125  2.726562 -0.103151"
      ]
     },
     "execution_count": 27,
     "metadata": {},
     "output_type": "execute_result"
    }
   ],
   "source": [
    "Bisection(2, 3, f, tolerance=pow(10, -2), output=\"table\")"
   ]
  },
  {
   "cell_type": "code",
   "execution_count": 28,
   "metadata": {
    "collapsed": false
   },
   "outputs": [
    {
     "name": "stdout",
     "output_type": "stream",
     "text": [
      "The answer is :  2.7265625\n"
     ]
    }
   ],
   "source": [
    "print(\"The answer is : \" , Bisection(2, 3, f, tolerance=pow(10, -2), output=\"answer\"))"
   ]
  },
  {
   "cell_type": "markdown",
   "metadata": {},
   "source": [
    "#### d. [−1,0]"
   ]
  },
  {
   "cell_type": "code",
   "execution_count": 29,
   "metadata": {
    "collapsed": false
   },
   "outputs": [
    {
     "data": {
      "text/html": [
       "<div>\n",
       "<table border=\"1\" class=\"dataframe\">\n",
       "  <thead>\n",
       "    <tr style=\"text-align: right;\">\n",
       "      <th></th>\n",
       "      <th>a</th>\n",
       "      <th>f(a)</th>\n",
       "      <th>b</th>\n",
       "      <th>f(b)</th>\n",
       "      <th>p</th>\n",
       "      <th>f(p)</th>\n",
       "    </tr>\n",
       "  </thead>\n",
       "  <tbody>\n",
       "    <tr>\n",
       "      <th>1</th>\n",
       "      <td>-1.000000</td>\n",
       "      <td>-1.000000</td>\n",
       "      <td>0.00000</td>\n",
       "      <td>4.000000</td>\n",
       "      <td>-0.500000</td>\n",
       "      <td>1.312500</td>\n",
       "    </tr>\n",
       "    <tr>\n",
       "      <th>2</th>\n",
       "      <td>-1.000000</td>\n",
       "      <td>-1.000000</td>\n",
       "      <td>-0.50000</td>\n",
       "      <td>1.312500</td>\n",
       "      <td>-0.750000</td>\n",
       "      <td>-0.089844</td>\n",
       "    </tr>\n",
       "    <tr>\n",
       "      <th>3</th>\n",
       "      <td>-0.750000</td>\n",
       "      <td>-0.089844</td>\n",
       "      <td>-0.50000</td>\n",
       "      <td>1.312500</td>\n",
       "      <td>-0.625000</td>\n",
       "      <td>0.578369</td>\n",
       "    </tr>\n",
       "    <tr>\n",
       "      <th>4</th>\n",
       "      <td>-0.750000</td>\n",
       "      <td>-0.089844</td>\n",
       "      <td>-0.62500</td>\n",
       "      <td>0.578369</td>\n",
       "      <td>-0.687500</td>\n",
       "      <td>0.232681</td>\n",
       "    </tr>\n",
       "    <tr>\n",
       "      <th>5</th>\n",
       "      <td>-0.750000</td>\n",
       "      <td>-0.089844</td>\n",
       "      <td>-0.68750</td>\n",
       "      <td>0.232681</td>\n",
       "      <td>-0.718750</td>\n",
       "      <td>0.068086</td>\n",
       "    </tr>\n",
       "    <tr>\n",
       "      <th>6</th>\n",
       "      <td>-0.750000</td>\n",
       "      <td>-0.089844</td>\n",
       "      <td>-0.71875</td>\n",
       "      <td>0.068086</td>\n",
       "      <td>-0.734375</td>\n",
       "      <td>-0.011768</td>\n",
       "    </tr>\n",
       "    <tr>\n",
       "      <th>7</th>\n",
       "      <td>-0.734375</td>\n",
       "      <td>-0.011768</td>\n",
       "      <td>-0.71875</td>\n",
       "      <td>0.068086</td>\n",
       "      <td>-0.726562</td>\n",
       "      <td>0.027943</td>\n",
       "    </tr>\n",
       "  </tbody>\n",
       "</table>\n",
       "</div>"
      ],
      "text/plain": [
       "          a      f(a)        b      f(b)         p      f(p)\n",
       "1 -1.000000 -1.000000  0.00000  4.000000 -0.500000  1.312500\n",
       "2 -1.000000 -1.000000 -0.50000  1.312500 -0.750000 -0.089844\n",
       "3 -0.750000 -0.089844 -0.50000  1.312500 -0.625000  0.578369\n",
       "4 -0.750000 -0.089844 -0.62500  0.578369 -0.687500  0.232681\n",
       "5 -0.750000 -0.089844 -0.68750  0.232681 -0.718750  0.068086\n",
       "6 -0.750000 -0.089844 -0.71875  0.068086 -0.734375 -0.011768\n",
       "7 -0.734375 -0.011768 -0.71875  0.068086 -0.726562  0.027943"
      ]
     },
     "execution_count": 29,
     "metadata": {},
     "output_type": "execute_result"
    }
   ],
   "source": [
    "Bisection(-1, 0, f, tolerance=pow(10, -2), output=\"table\")"
   ]
  },
  {
   "cell_type": "code",
   "execution_count": 30,
   "metadata": {
    "collapsed": false
   },
   "outputs": [
    {
     "name": "stdout",
     "output_type": "stream",
     "text": [
      "The answer is :  -0.7265625\n"
     ]
    }
   ],
   "source": [
    "print(\"The answer is : \" , Bisection(-1, 0, f, tolerance=pow(10, -2), output=\"answer\"))"
   ]
  },
  {
   "cell_type": "markdown",
   "metadata": {},
   "source": [
    "### (5) Use the Bisection method to find solutions accurate to within 10 −5 for the following problems."
   ]
  },
  {
   "cell_type": "markdown",
   "metadata": {},
   "source": [
    "### a. x − 2⁻ˣ = 0 for 0 ≤ x ≤ 1"
   ]
  },
  {
   "cell_type": "code",
   "execution_count": 31,
   "metadata": {
    "collapsed": true
   },
   "outputs": [],
   "source": [
    "def f(x):\n",
    "    return x - pow(2, -x)"
   ]
  },
  {
   "cell_type": "code",
   "execution_count": 32,
   "metadata": {
    "collapsed": false
   },
   "outputs": [
    {
     "data": {
      "text/html": [
       "<div>\n",
       "<table border=\"1\" class=\"dataframe\">\n",
       "  <thead>\n",
       "    <tr style=\"text-align: right;\">\n",
       "      <th></th>\n",
       "      <th>a</th>\n",
       "      <th>f(a)</th>\n",
       "      <th>b</th>\n",
       "      <th>f(b)</th>\n",
       "      <th>p</th>\n",
       "      <th>f(p)</th>\n",
       "    </tr>\n",
       "  </thead>\n",
       "  <tbody>\n",
       "    <tr>\n",
       "      <th>1</th>\n",
       "      <td>0.000000</td>\n",
       "      <td>-1.000000</td>\n",
       "      <td>1.000000</td>\n",
       "      <td>0.500000</td>\n",
       "      <td>0.500000</td>\n",
       "      <td>-0.207107</td>\n",
       "    </tr>\n",
       "    <tr>\n",
       "      <th>2</th>\n",
       "      <td>0.500000</td>\n",
       "      <td>-0.207107</td>\n",
       "      <td>1.000000</td>\n",
       "      <td>0.500000</td>\n",
       "      <td>0.750000</td>\n",
       "      <td>0.155396</td>\n",
       "    </tr>\n",
       "    <tr>\n",
       "      <th>3</th>\n",
       "      <td>0.500000</td>\n",
       "      <td>-0.207107</td>\n",
       "      <td>0.750000</td>\n",
       "      <td>0.155396</td>\n",
       "      <td>0.625000</td>\n",
       "      <td>-0.023420</td>\n",
       "    </tr>\n",
       "    <tr>\n",
       "      <th>4</th>\n",
       "      <td>0.625000</td>\n",
       "      <td>-0.023420</td>\n",
       "      <td>0.750000</td>\n",
       "      <td>0.155396</td>\n",
       "      <td>0.687500</td>\n",
       "      <td>0.066571</td>\n",
       "    </tr>\n",
       "    <tr>\n",
       "      <th>5</th>\n",
       "      <td>0.625000</td>\n",
       "      <td>-0.023420</td>\n",
       "      <td>0.687500</td>\n",
       "      <td>0.066571</td>\n",
       "      <td>0.656250</td>\n",
       "      <td>0.021725</td>\n",
       "    </tr>\n",
       "    <tr>\n",
       "      <th>6</th>\n",
       "      <td>0.625000</td>\n",
       "      <td>-0.023420</td>\n",
       "      <td>0.656250</td>\n",
       "      <td>0.021725</td>\n",
       "      <td>0.640625</td>\n",
       "      <td>-0.000810</td>\n",
       "    </tr>\n",
       "    <tr>\n",
       "      <th>7</th>\n",
       "      <td>0.640625</td>\n",
       "      <td>-0.000810</td>\n",
       "      <td>0.656250</td>\n",
       "      <td>0.021725</td>\n",
       "      <td>0.648438</td>\n",
       "      <td>0.010467</td>\n",
       "    </tr>\n",
       "    <tr>\n",
       "      <th>8</th>\n",
       "      <td>0.640625</td>\n",
       "      <td>-0.000810</td>\n",
       "      <td>0.648438</td>\n",
       "      <td>0.010467</td>\n",
       "      <td>0.644531</td>\n",
       "      <td>0.004831</td>\n",
       "    </tr>\n",
       "    <tr>\n",
       "      <th>9</th>\n",
       "      <td>0.640625</td>\n",
       "      <td>-0.000810</td>\n",
       "      <td>0.644531</td>\n",
       "      <td>0.004831</td>\n",
       "      <td>0.642578</td>\n",
       "      <td>0.002011</td>\n",
       "    </tr>\n",
       "    <tr>\n",
       "      <th>10</th>\n",
       "      <td>0.640625</td>\n",
       "      <td>-0.000810</td>\n",
       "      <td>0.642578</td>\n",
       "      <td>0.002011</td>\n",
       "      <td>0.641602</td>\n",
       "      <td>0.000601</td>\n",
       "    </tr>\n",
       "    <tr>\n",
       "      <th>11</th>\n",
       "      <td>0.640625</td>\n",
       "      <td>-0.000810</td>\n",
       "      <td>0.641602</td>\n",
       "      <td>0.000601</td>\n",
       "      <td>0.641113</td>\n",
       "      <td>-0.000105</td>\n",
       "    </tr>\n",
       "    <tr>\n",
       "      <th>12</th>\n",
       "      <td>0.641113</td>\n",
       "      <td>-0.000105</td>\n",
       "      <td>0.641602</td>\n",
       "      <td>0.000601</td>\n",
       "      <td>0.641357</td>\n",
       "      <td>0.000248</td>\n",
       "    </tr>\n",
       "    <tr>\n",
       "      <th>13</th>\n",
       "      <td>0.641113</td>\n",
       "      <td>-0.000105</td>\n",
       "      <td>0.641357</td>\n",
       "      <td>0.000248</td>\n",
       "      <td>0.641235</td>\n",
       "      <td>0.000072</td>\n",
       "    </tr>\n",
       "    <tr>\n",
       "      <th>14</th>\n",
       "      <td>0.641113</td>\n",
       "      <td>-0.000105</td>\n",
       "      <td>0.641235</td>\n",
       "      <td>0.000072</td>\n",
       "      <td>0.641174</td>\n",
       "      <td>-0.000017</td>\n",
       "    </tr>\n",
       "    <tr>\n",
       "      <th>15</th>\n",
       "      <td>0.641174</td>\n",
       "      <td>-0.000017</td>\n",
       "      <td>0.641235</td>\n",
       "      <td>0.000072</td>\n",
       "      <td>0.641205</td>\n",
       "      <td>0.000028</td>\n",
       "    </tr>\n",
       "    <tr>\n",
       "      <th>16</th>\n",
       "      <td>0.641174</td>\n",
       "      <td>-0.000017</td>\n",
       "      <td>0.641205</td>\n",
       "      <td>0.000028</td>\n",
       "      <td>0.641190</td>\n",
       "      <td>0.000006</td>\n",
       "    </tr>\n",
       "    <tr>\n",
       "      <th>17</th>\n",
       "      <td>0.641174</td>\n",
       "      <td>-0.000017</td>\n",
       "      <td>0.641190</td>\n",
       "      <td>0.000006</td>\n",
       "      <td>0.641182</td>\n",
       "      <td>-0.000005</td>\n",
       "    </tr>\n",
       "  </tbody>\n",
       "</table>\n",
       "</div>"
      ],
      "text/plain": [
       "           a      f(a)         b      f(b)         p      f(p)\n",
       "1   0.000000 -1.000000  1.000000  0.500000  0.500000 -0.207107\n",
       "2   0.500000 -0.207107  1.000000  0.500000  0.750000  0.155396\n",
       "3   0.500000 -0.207107  0.750000  0.155396  0.625000 -0.023420\n",
       "4   0.625000 -0.023420  0.750000  0.155396  0.687500  0.066571\n",
       "5   0.625000 -0.023420  0.687500  0.066571  0.656250  0.021725\n",
       "6   0.625000 -0.023420  0.656250  0.021725  0.640625 -0.000810\n",
       "7   0.640625 -0.000810  0.656250  0.021725  0.648438  0.010467\n",
       "8   0.640625 -0.000810  0.648438  0.010467  0.644531  0.004831\n",
       "9   0.640625 -0.000810  0.644531  0.004831  0.642578  0.002011\n",
       "10  0.640625 -0.000810  0.642578  0.002011  0.641602  0.000601\n",
       "11  0.640625 -0.000810  0.641602  0.000601  0.641113 -0.000105\n",
       "12  0.641113 -0.000105  0.641602  0.000601  0.641357  0.000248\n",
       "13  0.641113 -0.000105  0.641357  0.000248  0.641235  0.000072\n",
       "14  0.641113 -0.000105  0.641235  0.000072  0.641174 -0.000017\n",
       "15  0.641174 -0.000017  0.641235  0.000072  0.641205  0.000028\n",
       "16  0.641174 -0.000017  0.641205  0.000028  0.641190  0.000006\n",
       "17  0.641174 -0.000017  0.641190  0.000006  0.641182 -0.000005"
      ]
     },
     "execution_count": 32,
     "metadata": {},
     "output_type": "execute_result"
    }
   ],
   "source": [
    "Bisection(0, 1, f, tolerance=pow(10, -5), output=\"table\")"
   ]
  },
  {
   "cell_type": "code",
   "execution_count": 33,
   "metadata": {
    "collapsed": false
   },
   "outputs": [
    {
     "name": "stdout",
     "output_type": "stream",
     "text": [
      "The answer is :  0.641181945\n"
     ]
    }
   ],
   "source": [
    "print(\"The answer is : \" , Bisection(0, 1, f, tolerance=pow(10, -5), output=\"answer\"))"
   ]
  },
  {
   "cell_type": "markdown",
   "metadata": {},
   "source": [
    "### b. eˣ − x² + 3x − 2 = 0 for 0 ≤ x ≤ 1"
   ]
  },
  {
   "cell_type": "code",
   "execution_count": 38,
   "metadata": {
    "collapsed": true
   },
   "outputs": [],
   "source": [
    "import math\n",
    "\n",
    "def f(x):\n",
    "    return math.exp(x) - pow(x, 2) + 3*x - 2"
   ]
  },
  {
   "cell_type": "code",
   "execution_count": 39,
   "metadata": {
    "collapsed": false
   },
   "outputs": [
    {
     "data": {
      "text/html": [
       "<div>\n",
       "<table border=\"1\" class=\"dataframe\">\n",
       "  <thead>\n",
       "    <tr style=\"text-align: right;\">\n",
       "      <th></th>\n",
       "      <th>a</th>\n",
       "      <th>f(a)</th>\n",
       "      <th>b</th>\n",
       "      <th>f(b)</th>\n",
       "      <th>p</th>\n",
       "      <th>f(p)</th>\n",
       "    </tr>\n",
       "  </thead>\n",
       "  <tbody>\n",
       "    <tr>\n",
       "      <th>1</th>\n",
       "      <td>0.000000</td>\n",
       "      <td>-1.000000</td>\n",
       "      <td>1.000000</td>\n",
       "      <td>2.718282</td>\n",
       "      <td>0.500000</td>\n",
       "      <td>8.987213e-01</td>\n",
       "    </tr>\n",
       "    <tr>\n",
       "      <th>2</th>\n",
       "      <td>0.000000</td>\n",
       "      <td>-1.000000</td>\n",
       "      <td>0.500000</td>\n",
       "      <td>0.898721</td>\n",
       "      <td>0.250000</td>\n",
       "      <td>-2.847458e-02</td>\n",
       "    </tr>\n",
       "    <tr>\n",
       "      <th>3</th>\n",
       "      <td>0.250000</td>\n",
       "      <td>-0.028475</td>\n",
       "      <td>0.500000</td>\n",
       "      <td>0.898721</td>\n",
       "      <td>0.375000</td>\n",
       "      <td>4.393664e-01</td>\n",
       "    </tr>\n",
       "    <tr>\n",
       "      <th>4</th>\n",
       "      <td>0.250000</td>\n",
       "      <td>-0.028475</td>\n",
       "      <td>0.375000</td>\n",
       "      <td>0.439366</td>\n",
       "      <td>0.312500</td>\n",
       "      <td>2.066817e-01</td>\n",
       "    </tr>\n",
       "    <tr>\n",
       "      <th>5</th>\n",
       "      <td>0.250000</td>\n",
       "      <td>-0.028475</td>\n",
       "      <td>0.312500</td>\n",
       "      <td>0.206682</td>\n",
       "      <td>0.281250</td>\n",
       "      <td>8.943320e-02</td>\n",
       "    </tr>\n",
       "    <tr>\n",
       "      <th>6</th>\n",
       "      <td>0.250000</td>\n",
       "      <td>-0.028475</td>\n",
       "      <td>0.281250</td>\n",
       "      <td>0.089433</td>\n",
       "      <td>0.265625</td>\n",
       "      <td>3.056423e-02</td>\n",
       "    </tr>\n",
       "    <tr>\n",
       "      <th>7</th>\n",
       "      <td>0.250000</td>\n",
       "      <td>-0.028475</td>\n",
       "      <td>0.265625</td>\n",
       "      <td>0.030564</td>\n",
       "      <td>0.257812</td>\n",
       "      <td>1.066368e-03</td>\n",
       "    </tr>\n",
       "    <tr>\n",
       "      <th>8</th>\n",
       "      <td>0.250000</td>\n",
       "      <td>-0.028475</td>\n",
       "      <td>0.257812</td>\n",
       "      <td>0.001066</td>\n",
       "      <td>0.253906</td>\n",
       "      <td>-1.369868e-02</td>\n",
       "    </tr>\n",
       "    <tr>\n",
       "      <th>9</th>\n",
       "      <td>0.253906</td>\n",
       "      <td>-0.013699</td>\n",
       "      <td>0.257812</td>\n",
       "      <td>0.001066</td>\n",
       "      <td>0.255859</td>\n",
       "      <td>-6.314807e-03</td>\n",
       "    </tr>\n",
       "    <tr>\n",
       "      <th>10</th>\n",
       "      <td>0.255859</td>\n",
       "      <td>-0.006315</td>\n",
       "      <td>0.257812</td>\n",
       "      <td>0.001066</td>\n",
       "      <td>0.256836</td>\n",
       "      <td>-2.623880e-03</td>\n",
       "    </tr>\n",
       "    <tr>\n",
       "      <th>11</th>\n",
       "      <td>0.256836</td>\n",
       "      <td>-0.002624</td>\n",
       "      <td>0.257812</td>\n",
       "      <td>0.001066</td>\n",
       "      <td>0.257324</td>\n",
       "      <td>-7.786722e-04</td>\n",
       "    </tr>\n",
       "    <tr>\n",
       "      <th>12</th>\n",
       "      <td>0.257324</td>\n",
       "      <td>-0.000779</td>\n",
       "      <td>0.257812</td>\n",
       "      <td>0.001066</td>\n",
       "      <td>0.257568</td>\n",
       "      <td>1.438707e-04</td>\n",
       "    </tr>\n",
       "    <tr>\n",
       "      <th>13</th>\n",
       "      <td>0.257324</td>\n",
       "      <td>-0.000779</td>\n",
       "      <td>0.257568</td>\n",
       "      <td>0.000144</td>\n",
       "      <td>0.257446</td>\n",
       "      <td>-3.173936e-04</td>\n",
       "    </tr>\n",
       "    <tr>\n",
       "      <th>14</th>\n",
       "      <td>0.257446</td>\n",
       "      <td>-0.000317</td>\n",
       "      <td>0.257568</td>\n",
       "      <td>0.000144</td>\n",
       "      <td>0.257507</td>\n",
       "      <td>-8.676012e-05</td>\n",
       "    </tr>\n",
       "    <tr>\n",
       "      <th>15</th>\n",
       "      <td>0.257507</td>\n",
       "      <td>-0.000087</td>\n",
       "      <td>0.257568</td>\n",
       "      <td>0.000144</td>\n",
       "      <td>0.257538</td>\n",
       "      <td>2.855751e-05</td>\n",
       "    </tr>\n",
       "    <tr>\n",
       "      <th>16</th>\n",
       "      <td>0.257507</td>\n",
       "      <td>-0.000087</td>\n",
       "      <td>0.257538</td>\n",
       "      <td>0.000029</td>\n",
       "      <td>0.257523</td>\n",
       "      <td>-2.910122e-05</td>\n",
       "    </tr>\n",
       "    <tr>\n",
       "      <th>17</th>\n",
       "      <td>0.257523</td>\n",
       "      <td>-0.000029</td>\n",
       "      <td>0.257538</td>\n",
       "      <td>0.000029</td>\n",
       "      <td>0.257530</td>\n",
       "      <td>-2.737264e-07</td>\n",
       "    </tr>\n",
       "  </tbody>\n",
       "</table>\n",
       "</div>"
      ],
      "text/plain": [
       "           a      f(a)         b      f(b)         p          f(p)\n",
       "1   0.000000 -1.000000  1.000000  2.718282  0.500000  8.987213e-01\n",
       "2   0.000000 -1.000000  0.500000  0.898721  0.250000 -2.847458e-02\n",
       "3   0.250000 -0.028475  0.500000  0.898721  0.375000  4.393664e-01\n",
       "4   0.250000 -0.028475  0.375000  0.439366  0.312500  2.066817e-01\n",
       "5   0.250000 -0.028475  0.312500  0.206682  0.281250  8.943320e-02\n",
       "6   0.250000 -0.028475  0.281250  0.089433  0.265625  3.056423e-02\n",
       "7   0.250000 -0.028475  0.265625  0.030564  0.257812  1.066368e-03\n",
       "8   0.250000 -0.028475  0.257812  0.001066  0.253906 -1.369868e-02\n",
       "9   0.253906 -0.013699  0.257812  0.001066  0.255859 -6.314807e-03\n",
       "10  0.255859 -0.006315  0.257812  0.001066  0.256836 -2.623880e-03\n",
       "11  0.256836 -0.002624  0.257812  0.001066  0.257324 -7.786722e-04\n",
       "12  0.257324 -0.000779  0.257812  0.001066  0.257568  1.438707e-04\n",
       "13  0.257324 -0.000779  0.257568  0.000144  0.257446 -3.173936e-04\n",
       "14  0.257446 -0.000317  0.257568  0.000144  0.257507 -8.676012e-05\n",
       "15  0.257507 -0.000087  0.257568  0.000144  0.257538  2.855751e-05\n",
       "16  0.257507 -0.000087  0.257538  0.000029  0.257523 -2.910122e-05\n",
       "17  0.257523 -0.000029  0.257538  0.000029  0.257530 -2.737264e-07"
      ]
     },
     "execution_count": 39,
     "metadata": {},
     "output_type": "execute_result"
    }
   ],
   "source": [
    "Bisection(0, 1, f, tolerance=pow(10, -5), output=\"table\")"
   ]
  },
  {
   "cell_type": "code",
   "execution_count": 36,
   "metadata": {
    "collapsed": false
   },
   "outputs": [
    {
     "name": "stdout",
     "output_type": "stream",
     "text": [
      "The answer is :  0.257530213\n"
     ]
    }
   ],
   "source": [
    "print(\"The answer is : \" , Bisection(0, 1, f, tolerance=pow(10, -5), output=\"answer\"))"
   ]
  },
  {
   "cell_type": "markdown",
   "metadata": {},
   "source": [
    "### c. 2x cos(2x) − (x + 1)² = 0 for −3 ≤ x ≤ −2 and −1 ≤ x ≤ 0"
   ]
  },
  {
   "cell_type": "code",
   "execution_count": 42,
   "metadata": {
    "collapsed": false
   },
   "outputs": [],
   "source": [
    "import math\n",
    "\n",
    "def f(x):\n",
    "    return 2*x*math.cos(2*x) - pow(x + 1, 2)"
   ]
  },
  {
   "cell_type": "code",
   "execution_count": 44,
   "metadata": {
    "collapsed": false
   },
   "outputs": [
    {
     "data": {
      "text/html": [
       "<div>\n",
       "<table border=\"1\" class=\"dataframe\">\n",
       "  <thead>\n",
       "    <tr style=\"text-align: right;\">\n",
       "      <th></th>\n",
       "      <th>a</th>\n",
       "      <th>f(a)</th>\n",
       "      <th>b</th>\n",
       "      <th>f(b)</th>\n",
       "      <th>p</th>\n",
       "      <th>f(p)</th>\n",
       "    </tr>\n",
       "  </thead>\n",
       "  <tbody>\n",
       "    <tr>\n",
       "      <th>1</th>\n",
       "      <td>-3.000000</td>\n",
       "      <td>-9.761022</td>\n",
       "      <td>-2.000000</td>\n",
       "      <td>1.614574</td>\n",
       "      <td>-2.500000</td>\n",
       "      <td>-3.668311</td>\n",
       "    </tr>\n",
       "    <tr>\n",
       "      <th>2</th>\n",
       "      <td>-2.500000</td>\n",
       "      <td>-3.668311</td>\n",
       "      <td>-2.000000</td>\n",
       "      <td>1.614574</td>\n",
       "      <td>-2.250000</td>\n",
       "      <td>-0.613919</td>\n",
       "    </tr>\n",
       "    <tr>\n",
       "      <th>3</th>\n",
       "      <td>-2.250000</td>\n",
       "      <td>-0.613919</td>\n",
       "      <td>-2.000000</td>\n",
       "      <td>1.614574</td>\n",
       "      <td>-2.125000</td>\n",
       "      <td>0.630247</td>\n",
       "    </tr>\n",
       "    <tr>\n",
       "      <th>4</th>\n",
       "      <td>-2.250000</td>\n",
       "      <td>-0.613919</td>\n",
       "      <td>-2.125000</td>\n",
       "      <td>0.630247</td>\n",
       "      <td>-2.187500</td>\n",
       "      <td>0.038076</td>\n",
       "    </tr>\n",
       "    <tr>\n",
       "      <th>5</th>\n",
       "      <td>-2.250000</td>\n",
       "      <td>-0.613919</td>\n",
       "      <td>-2.187500</td>\n",
       "      <td>0.038076</td>\n",
       "      <td>-2.218750</td>\n",
       "      <td>-0.280836</td>\n",
       "    </tr>\n",
       "    <tr>\n",
       "      <th>6</th>\n",
       "      <td>-2.218750</td>\n",
       "      <td>-0.280836</td>\n",
       "      <td>-2.187500</td>\n",
       "      <td>0.038076</td>\n",
       "      <td>-2.203125</td>\n",
       "      <td>-0.119557</td>\n",
       "    </tr>\n",
       "    <tr>\n",
       "      <th>7</th>\n",
       "      <td>-2.203125</td>\n",
       "      <td>-0.119557</td>\n",
       "      <td>-2.187500</td>\n",
       "      <td>0.038076</td>\n",
       "      <td>-2.195312</td>\n",
       "      <td>-0.040279</td>\n",
       "    </tr>\n",
       "    <tr>\n",
       "      <th>8</th>\n",
       "      <td>-2.195312</td>\n",
       "      <td>-0.040279</td>\n",
       "      <td>-2.187500</td>\n",
       "      <td>0.038076</td>\n",
       "      <td>-2.191406</td>\n",
       "      <td>-0.000985</td>\n",
       "    </tr>\n",
       "    <tr>\n",
       "      <th>9</th>\n",
       "      <td>-2.191406</td>\n",
       "      <td>-0.000985</td>\n",
       "      <td>-2.187500</td>\n",
       "      <td>0.038076</td>\n",
       "      <td>-2.189453</td>\n",
       "      <td>0.018574</td>\n",
       "    </tr>\n",
       "    <tr>\n",
       "      <th>10</th>\n",
       "      <td>-2.191406</td>\n",
       "      <td>-0.000985</td>\n",
       "      <td>-2.189453</td>\n",
       "      <td>0.018574</td>\n",
       "      <td>-2.190430</td>\n",
       "      <td>0.008802</td>\n",
       "    </tr>\n",
       "    <tr>\n",
       "      <th>11</th>\n",
       "      <td>-2.191406</td>\n",
       "      <td>-0.000985</td>\n",
       "      <td>-2.190430</td>\n",
       "      <td>0.008802</td>\n",
       "      <td>-2.190918</td>\n",
       "      <td>0.003910</td>\n",
       "    </tr>\n",
       "    <tr>\n",
       "      <th>12</th>\n",
       "      <td>-2.191406</td>\n",
       "      <td>-0.000985</td>\n",
       "      <td>-2.190918</td>\n",
       "      <td>0.003910</td>\n",
       "      <td>-2.191162</td>\n",
       "      <td>0.001463</td>\n",
       "    </tr>\n",
       "    <tr>\n",
       "      <th>13</th>\n",
       "      <td>-2.191406</td>\n",
       "      <td>-0.000985</td>\n",
       "      <td>-2.191162</td>\n",
       "      <td>0.001463</td>\n",
       "      <td>-2.191284</td>\n",
       "      <td>0.000239</td>\n",
       "    </tr>\n",
       "    <tr>\n",
       "      <th>14</th>\n",
       "      <td>-2.191406</td>\n",
       "      <td>-0.000985</td>\n",
       "      <td>-2.191284</td>\n",
       "      <td>0.000239</td>\n",
       "      <td>-2.191345</td>\n",
       "      <td>-0.000373</td>\n",
       "    </tr>\n",
       "    <tr>\n",
       "      <th>15</th>\n",
       "      <td>-2.191345</td>\n",
       "      <td>-0.000373</td>\n",
       "      <td>-2.191284</td>\n",
       "      <td>0.000239</td>\n",
       "      <td>-2.191315</td>\n",
       "      <td>-0.000067</td>\n",
       "    </tr>\n",
       "    <tr>\n",
       "      <th>16</th>\n",
       "      <td>-2.191315</td>\n",
       "      <td>-0.000067</td>\n",
       "      <td>-2.191284</td>\n",
       "      <td>0.000239</td>\n",
       "      <td>-2.191299</td>\n",
       "      <td>0.000086</td>\n",
       "    </tr>\n",
       "    <tr>\n",
       "      <th>17</th>\n",
       "      <td>-2.191315</td>\n",
       "      <td>-0.000067</td>\n",
       "      <td>-2.191299</td>\n",
       "      <td>0.000086</td>\n",
       "      <td>-2.191307</td>\n",
       "      <td>0.000009</td>\n",
       "    </tr>\n",
       "  </tbody>\n",
       "</table>\n",
       "</div>"
      ],
      "text/plain": [
       "           a      f(a)         b      f(b)         p      f(p)\n",
       "1  -3.000000 -9.761022 -2.000000  1.614574 -2.500000 -3.668311\n",
       "2  -2.500000 -3.668311 -2.000000  1.614574 -2.250000 -0.613919\n",
       "3  -2.250000 -0.613919 -2.000000  1.614574 -2.125000  0.630247\n",
       "4  -2.250000 -0.613919 -2.125000  0.630247 -2.187500  0.038076\n",
       "5  -2.250000 -0.613919 -2.187500  0.038076 -2.218750 -0.280836\n",
       "6  -2.218750 -0.280836 -2.187500  0.038076 -2.203125 -0.119557\n",
       "7  -2.203125 -0.119557 -2.187500  0.038076 -2.195312 -0.040279\n",
       "8  -2.195312 -0.040279 -2.187500  0.038076 -2.191406 -0.000985\n",
       "9  -2.191406 -0.000985 -2.187500  0.038076 -2.189453  0.018574\n",
       "10 -2.191406 -0.000985 -2.189453  0.018574 -2.190430  0.008802\n",
       "11 -2.191406 -0.000985 -2.190430  0.008802 -2.190918  0.003910\n",
       "12 -2.191406 -0.000985 -2.190918  0.003910 -2.191162  0.001463\n",
       "13 -2.191406 -0.000985 -2.191162  0.001463 -2.191284  0.000239\n",
       "14 -2.191406 -0.000985 -2.191284  0.000239 -2.191345 -0.000373\n",
       "15 -2.191345 -0.000373 -2.191284  0.000239 -2.191315 -0.000067\n",
       "16 -2.191315 -0.000067 -2.191284  0.000239 -2.191299  0.000086\n",
       "17 -2.191315 -0.000067 -2.191299  0.000086 -2.191307  0.000009"
      ]
     },
     "execution_count": 44,
     "metadata": {},
     "output_type": "execute_result"
    }
   ],
   "source": [
    "Bisection(-3, -2, f, tolerance=pow(10, -5), output=\"table\")"
   ]
  },
  {
   "cell_type": "code",
   "execution_count": 46,
   "metadata": {
    "collapsed": false
   },
   "outputs": [
    {
     "name": "stdout",
     "output_type": "stream",
     "text": [
      "The answer is :  -2.191307068\n"
     ]
    }
   ],
   "source": [
    "print(\"The answer is : \" , Bisection(-3, -2, f, tolerance=pow(10, -5), output=\"answer\"))"
   ]
  },
  {
   "cell_type": "code",
   "execution_count": 47,
   "metadata": {
    "collapsed": false
   },
   "outputs": [
    {
     "data": {
      "text/html": [
       "<div>\n",
       "<table border=\"1\" class=\"dataframe\">\n",
       "  <thead>\n",
       "    <tr style=\"text-align: right;\">\n",
       "      <th></th>\n",
       "      <th>a</th>\n",
       "      <th>f(a)</th>\n",
       "      <th>b</th>\n",
       "      <th>f(b)</th>\n",
       "      <th>p</th>\n",
       "      <th>f(p)</th>\n",
       "    </tr>\n",
       "  </thead>\n",
       "  <tbody>\n",
       "    <tr>\n",
       "      <th>1</th>\n",
       "      <td>-1.000000</td>\n",
       "      <td>0.832294</td>\n",
       "      <td>0.000000</td>\n",
       "      <td>-1.000000</td>\n",
       "      <td>-0.500000</td>\n",
       "      <td>-0.790302</td>\n",
       "    </tr>\n",
       "    <tr>\n",
       "      <th>2</th>\n",
       "      <td>-1.000000</td>\n",
       "      <td>0.832294</td>\n",
       "      <td>-0.500000</td>\n",
       "      <td>-0.790302</td>\n",
       "      <td>-0.750000</td>\n",
       "      <td>-0.168606</td>\n",
       "    </tr>\n",
       "    <tr>\n",
       "      <th>3</th>\n",
       "      <td>-1.000000</td>\n",
       "      <td>0.832294</td>\n",
       "      <td>-0.750000</td>\n",
       "      <td>-0.168606</td>\n",
       "      <td>-0.875000</td>\n",
       "      <td>0.296306</td>\n",
       "    </tr>\n",
       "    <tr>\n",
       "      <th>4</th>\n",
       "      <td>-0.875000</td>\n",
       "      <td>0.296306</td>\n",
       "      <td>-0.750000</td>\n",
       "      <td>-0.168606</td>\n",
       "      <td>-0.812500</td>\n",
       "      <td>0.052882</td>\n",
       "    </tr>\n",
       "    <tr>\n",
       "      <th>5</th>\n",
       "      <td>-0.812500</td>\n",
       "      <td>0.052882</td>\n",
       "      <td>-0.750000</td>\n",
       "      <td>-0.168606</td>\n",
       "      <td>-0.781250</td>\n",
       "      <td>-0.060814</td>\n",
       "    </tr>\n",
       "    <tr>\n",
       "      <th>6</th>\n",
       "      <td>-0.812500</td>\n",
       "      <td>0.052882</td>\n",
       "      <td>-0.781250</td>\n",
       "      <td>-0.060814</td>\n",
       "      <td>-0.796875</td>\n",
       "      <td>-0.004681</td>\n",
       "    </tr>\n",
       "    <tr>\n",
       "      <th>7</th>\n",
       "      <td>-0.812500</td>\n",
       "      <td>0.052882</td>\n",
       "      <td>-0.796875</td>\n",
       "      <td>-0.004681</td>\n",
       "      <td>-0.804688</td>\n",
       "      <td>0.023925</td>\n",
       "    </tr>\n",
       "    <tr>\n",
       "      <th>8</th>\n",
       "      <td>-0.804688</td>\n",
       "      <td>0.023925</td>\n",
       "      <td>-0.796875</td>\n",
       "      <td>-0.004681</td>\n",
       "      <td>-0.800781</td>\n",
       "      <td>0.009578</td>\n",
       "    </tr>\n",
       "    <tr>\n",
       "      <th>9</th>\n",
       "      <td>-0.800781</td>\n",
       "      <td>0.009578</td>\n",
       "      <td>-0.796875</td>\n",
       "      <td>-0.004681</td>\n",
       "      <td>-0.798828</td>\n",
       "      <td>0.002438</td>\n",
       "    </tr>\n",
       "    <tr>\n",
       "      <th>10</th>\n",
       "      <td>-0.798828</td>\n",
       "      <td>0.002438</td>\n",
       "      <td>-0.796875</td>\n",
       "      <td>-0.004681</td>\n",
       "      <td>-0.797852</td>\n",
       "      <td>-0.001124</td>\n",
       "    </tr>\n",
       "    <tr>\n",
       "      <th>11</th>\n",
       "      <td>-0.798828</td>\n",
       "      <td>0.002438</td>\n",
       "      <td>-0.797852</td>\n",
       "      <td>-0.001124</td>\n",
       "      <td>-0.798340</td>\n",
       "      <td>0.000656</td>\n",
       "    </tr>\n",
       "    <tr>\n",
       "      <th>12</th>\n",
       "      <td>-0.798340</td>\n",
       "      <td>0.000656</td>\n",
       "      <td>-0.797852</td>\n",
       "      <td>-0.001124</td>\n",
       "      <td>-0.798096</td>\n",
       "      <td>-0.000234</td>\n",
       "    </tr>\n",
       "    <tr>\n",
       "      <th>13</th>\n",
       "      <td>-0.798340</td>\n",
       "      <td>0.000656</td>\n",
       "      <td>-0.798096</td>\n",
       "      <td>-0.000234</td>\n",
       "      <td>-0.798218</td>\n",
       "      <td>0.000211</td>\n",
       "    </tr>\n",
       "    <tr>\n",
       "      <th>14</th>\n",
       "      <td>-0.798218</td>\n",
       "      <td>0.000211</td>\n",
       "      <td>-0.798096</td>\n",
       "      <td>-0.000234</td>\n",
       "      <td>-0.798157</td>\n",
       "      <td>-0.000012</td>\n",
       "    </tr>\n",
       "    <tr>\n",
       "      <th>15</th>\n",
       "      <td>-0.798218</td>\n",
       "      <td>0.000211</td>\n",
       "      <td>-0.798157</td>\n",
       "      <td>-0.000012</td>\n",
       "      <td>-0.798187</td>\n",
       "      <td>0.000100</td>\n",
       "    </tr>\n",
       "    <tr>\n",
       "      <th>16</th>\n",
       "      <td>-0.798187</td>\n",
       "      <td>0.000100</td>\n",
       "      <td>-0.798157</td>\n",
       "      <td>-0.000012</td>\n",
       "      <td>-0.798172</td>\n",
       "      <td>0.000044</td>\n",
       "    </tr>\n",
       "    <tr>\n",
       "      <th>17</th>\n",
       "      <td>-0.798172</td>\n",
       "      <td>0.000044</td>\n",
       "      <td>-0.798157</td>\n",
       "      <td>-0.000012</td>\n",
       "      <td>-0.798164</td>\n",
       "      <td>0.000016</td>\n",
       "    </tr>\n",
       "  </tbody>\n",
       "</table>\n",
       "</div>"
      ],
      "text/plain": [
       "           a      f(a)         b      f(b)         p      f(p)\n",
       "1  -1.000000  0.832294  0.000000 -1.000000 -0.500000 -0.790302\n",
       "2  -1.000000  0.832294 -0.500000 -0.790302 -0.750000 -0.168606\n",
       "3  -1.000000  0.832294 -0.750000 -0.168606 -0.875000  0.296306\n",
       "4  -0.875000  0.296306 -0.750000 -0.168606 -0.812500  0.052882\n",
       "5  -0.812500  0.052882 -0.750000 -0.168606 -0.781250 -0.060814\n",
       "6  -0.812500  0.052882 -0.781250 -0.060814 -0.796875 -0.004681\n",
       "7  -0.812500  0.052882 -0.796875 -0.004681 -0.804688  0.023925\n",
       "8  -0.804688  0.023925 -0.796875 -0.004681 -0.800781  0.009578\n",
       "9  -0.800781  0.009578 -0.796875 -0.004681 -0.798828  0.002438\n",
       "10 -0.798828  0.002438 -0.796875 -0.004681 -0.797852 -0.001124\n",
       "11 -0.798828  0.002438 -0.797852 -0.001124 -0.798340  0.000656\n",
       "12 -0.798340  0.000656 -0.797852 -0.001124 -0.798096 -0.000234\n",
       "13 -0.798340  0.000656 -0.798096 -0.000234 -0.798218  0.000211\n",
       "14 -0.798218  0.000211 -0.798096 -0.000234 -0.798157 -0.000012\n",
       "15 -0.798218  0.000211 -0.798157 -0.000012 -0.798187  0.000100\n",
       "16 -0.798187  0.000100 -0.798157 -0.000012 -0.798172  0.000044\n",
       "17 -0.798172  0.000044 -0.798157 -0.000012 -0.798164  0.000016"
      ]
     },
     "execution_count": 47,
     "metadata": {},
     "output_type": "execute_result"
    }
   ],
   "source": [
    "Bisection(-1, 0, f, tolerance=pow(10, -5), output=\"table\")"
   ]
  },
  {
   "cell_type": "code",
   "execution_count": 48,
   "metadata": {
    "collapsed": false
   },
   "outputs": [
    {
     "name": "stdout",
     "output_type": "stream",
     "text": [
      "The answer is :  -0.798164367\n"
     ]
    }
   ],
   "source": [
    "print(\"The answer is : \" , Bisection(-1, 0, f, tolerance=pow(10, -5), output=\"answer\"))"
   ]
  },
  {
   "cell_type": "markdown",
   "metadata": {},
   "source": [
    "### d. x cosx − 2x² + 3x − 1 = 0  for   0.2 ≤ x ≤ 0.3   and   1.2 ≤ x ≤ 1.3"
   ]
  },
  {
   "cell_type": "code",
   "execution_count": 49,
   "metadata": {
    "collapsed": true
   },
   "outputs": [],
   "source": [
    "import math\n",
    "\n",
    "def f(x):\n",
    "    return x * math.cos(x) - 2*pow(x, 2) + 3*x - 1"
   ]
  },
  {
   "cell_type": "code",
   "execution_count": 50,
   "metadata": {
    "collapsed": false
   },
   "outputs": [
    {
     "data": {
      "text/html": [
       "<div>\n",
       "<table border=\"1\" class=\"dataframe\">\n",
       "  <thead>\n",
       "    <tr style=\"text-align: right;\">\n",
       "      <th></th>\n",
       "      <th>a</th>\n",
       "      <th>f(a)</th>\n",
       "      <th>b</th>\n",
       "      <th>f(b)</th>\n",
       "      <th>p</th>\n",
       "      <th>f(p)</th>\n",
       "    </tr>\n",
       "  </thead>\n",
       "  <tbody>\n",
       "    <tr>\n",
       "      <th>1</th>\n",
       "      <td>0.200000</td>\n",
       "      <td>-0.283987</td>\n",
       "      <td>0.300000</td>\n",
       "      <td>0.006601</td>\n",
       "      <td>0.250000</td>\n",
       "      <td>-0.132772</td>\n",
       "    </tr>\n",
       "    <tr>\n",
       "      <th>2</th>\n",
       "      <td>0.250000</td>\n",
       "      <td>-0.132772</td>\n",
       "      <td>0.300000</td>\n",
       "      <td>0.006601</td>\n",
       "      <td>0.275000</td>\n",
       "      <td>-0.061583</td>\n",
       "    </tr>\n",
       "    <tr>\n",
       "      <th>3</th>\n",
       "      <td>0.275000</td>\n",
       "      <td>-0.061583</td>\n",
       "      <td>0.300000</td>\n",
       "      <td>0.006601</td>\n",
       "      <td>0.287500</td>\n",
       "      <td>-0.027113</td>\n",
       "    </tr>\n",
       "    <tr>\n",
       "      <th>4</th>\n",
       "      <td>0.287500</td>\n",
       "      <td>-0.027113</td>\n",
       "      <td>0.300000</td>\n",
       "      <td>0.006601</td>\n",
       "      <td>0.293750</td>\n",
       "      <td>-0.010161</td>\n",
       "    </tr>\n",
       "    <tr>\n",
       "      <th>5</th>\n",
       "      <td>0.293750</td>\n",
       "      <td>-0.010161</td>\n",
       "      <td>0.300000</td>\n",
       "      <td>0.006601</td>\n",
       "      <td>0.296875</td>\n",
       "      <td>-0.001756</td>\n",
       "    </tr>\n",
       "    <tr>\n",
       "      <th>6</th>\n",
       "      <td>0.296875</td>\n",
       "      <td>-0.001756</td>\n",
       "      <td>0.300000</td>\n",
       "      <td>0.006601</td>\n",
       "      <td>0.298438</td>\n",
       "      <td>0.002428</td>\n",
       "    </tr>\n",
       "    <tr>\n",
       "      <th>7</th>\n",
       "      <td>0.296875</td>\n",
       "      <td>-0.001756</td>\n",
       "      <td>0.298438</td>\n",
       "      <td>0.002428</td>\n",
       "      <td>0.297656</td>\n",
       "      <td>0.000338</td>\n",
       "    </tr>\n",
       "    <tr>\n",
       "      <th>8</th>\n",
       "      <td>0.296875</td>\n",
       "      <td>-0.001756</td>\n",
       "      <td>0.297656</td>\n",
       "      <td>0.000338</td>\n",
       "      <td>0.297266</td>\n",
       "      <td>-0.000709</td>\n",
       "    </tr>\n",
       "    <tr>\n",
       "      <th>9</th>\n",
       "      <td>0.297266</td>\n",
       "      <td>-0.000709</td>\n",
       "      <td>0.297656</td>\n",
       "      <td>0.000338</td>\n",
       "      <td>0.297461</td>\n",
       "      <td>-0.000186</td>\n",
       "    </tr>\n",
       "    <tr>\n",
       "      <th>10</th>\n",
       "      <td>0.297461</td>\n",
       "      <td>-0.000186</td>\n",
       "      <td>0.297656</td>\n",
       "      <td>0.000338</td>\n",
       "      <td>0.297559</td>\n",
       "      <td>0.000076</td>\n",
       "    </tr>\n",
       "    <tr>\n",
       "      <th>11</th>\n",
       "      <td>0.297461</td>\n",
       "      <td>-0.000186</td>\n",
       "      <td>0.297559</td>\n",
       "      <td>0.000076</td>\n",
       "      <td>0.297510</td>\n",
       "      <td>-0.000055</td>\n",
       "    </tr>\n",
       "    <tr>\n",
       "      <th>12</th>\n",
       "      <td>0.297510</td>\n",
       "      <td>-0.000055</td>\n",
       "      <td>0.297559</td>\n",
       "      <td>0.000076</td>\n",
       "      <td>0.297534</td>\n",
       "      <td>0.000011</td>\n",
       "    </tr>\n",
       "    <tr>\n",
       "      <th>13</th>\n",
       "      <td>0.297510</td>\n",
       "      <td>-0.000055</td>\n",
       "      <td>0.297534</td>\n",
       "      <td>0.000011</td>\n",
       "      <td>0.297522</td>\n",
       "      <td>-0.000022</td>\n",
       "    </tr>\n",
       "    <tr>\n",
       "      <th>14</th>\n",
       "      <td>0.297522</td>\n",
       "      <td>-0.000022</td>\n",
       "      <td>0.297534</td>\n",
       "      <td>0.000011</td>\n",
       "      <td>0.297528</td>\n",
       "      <td>-0.000006</td>\n",
       "    </tr>\n",
       "  </tbody>\n",
       "</table>\n",
       "</div>"
      ],
      "text/plain": [
       "           a      f(a)         b      f(b)         p      f(p)\n",
       "1   0.200000 -0.283987  0.300000  0.006601  0.250000 -0.132772\n",
       "2   0.250000 -0.132772  0.300000  0.006601  0.275000 -0.061583\n",
       "3   0.275000 -0.061583  0.300000  0.006601  0.287500 -0.027113\n",
       "4   0.287500 -0.027113  0.300000  0.006601  0.293750 -0.010161\n",
       "5   0.293750 -0.010161  0.300000  0.006601  0.296875 -0.001756\n",
       "6   0.296875 -0.001756  0.300000  0.006601  0.298438  0.002428\n",
       "7   0.296875 -0.001756  0.298438  0.002428  0.297656  0.000338\n",
       "8   0.296875 -0.001756  0.297656  0.000338  0.297266 -0.000709\n",
       "9   0.297266 -0.000709  0.297656  0.000338  0.297461 -0.000186\n",
       "10  0.297461 -0.000186  0.297656  0.000338  0.297559  0.000076\n",
       "11  0.297461 -0.000186  0.297559  0.000076  0.297510 -0.000055\n",
       "12  0.297510 -0.000055  0.297559  0.000076  0.297534  0.000011\n",
       "13  0.297510 -0.000055  0.297534  0.000011  0.297522 -0.000022\n",
       "14  0.297522 -0.000022  0.297534  0.000011  0.297528 -0.000006"
      ]
     },
     "execution_count": 50,
     "metadata": {},
     "output_type": "execute_result"
    }
   ],
   "source": [
    "Bisection(0.2, 0.3, f, tolerance=pow(10, -5), output=\"table\")"
   ]
  },
  {
   "cell_type": "code",
   "execution_count": 51,
   "metadata": {
    "collapsed": false
   },
   "outputs": [
    {
     "name": "stdout",
     "output_type": "stream",
     "text": [
      "The answer is :  0.297528077\n"
     ]
    }
   ],
   "source": [
    "print(\"The answer is : \" , Bisection(0.2, 0.3, f, tolerance=pow(10, -5), output=\"answer\"))"
   ]
  },
  {
   "cell_type": "code",
   "execution_count": 52,
   "metadata": {
    "collapsed": false
   },
   "outputs": [
    {
     "data": {
      "text/html": [
       "<div>\n",
       "<table border=\"1\" class=\"dataframe\">\n",
       "  <thead>\n",
       "    <tr style=\"text-align: right;\">\n",
       "      <th></th>\n",
       "      <th>a</th>\n",
       "      <th>f(a)</th>\n",
       "      <th>b</th>\n",
       "      <th>f(b)</th>\n",
       "      <th>p</th>\n",
       "      <th>f(p)</th>\n",
       "    </tr>\n",
       "  </thead>\n",
       "  <tbody>\n",
       "    <tr>\n",
       "      <th>1</th>\n",
       "      <td>1.200000</td>\n",
       "      <td>0.154829</td>\n",
       "      <td>1.300000</td>\n",
       "      <td>-0.132252</td>\n",
       "      <td>1.250000</td>\n",
       "      <td>0.019153</td>\n",
       "    </tr>\n",
       "    <tr>\n",
       "      <th>2</th>\n",
       "      <td>1.250000</td>\n",
       "      <td>0.019153</td>\n",
       "      <td>1.300000</td>\n",
       "      <td>-0.132252</td>\n",
       "      <td>1.275000</td>\n",
       "      <td>-0.054585</td>\n",
       "    </tr>\n",
       "    <tr>\n",
       "      <th>3</th>\n",
       "      <td>1.250000</td>\n",
       "      <td>0.019153</td>\n",
       "      <td>1.275000</td>\n",
       "      <td>-0.054585</td>\n",
       "      <td>1.262500</td>\n",
       "      <td>-0.017225</td>\n",
       "    </tr>\n",
       "    <tr>\n",
       "      <th>4</th>\n",
       "      <td>1.250000</td>\n",
       "      <td>0.019153</td>\n",
       "      <td>1.262500</td>\n",
       "      <td>-0.017225</td>\n",
       "      <td>1.256250</td>\n",
       "      <td>0.001087</td>\n",
       "    </tr>\n",
       "    <tr>\n",
       "      <th>5</th>\n",
       "      <td>1.256250</td>\n",
       "      <td>0.001087</td>\n",
       "      <td>1.262500</td>\n",
       "      <td>-0.017225</td>\n",
       "      <td>1.259375</td>\n",
       "      <td>-0.008038</td>\n",
       "    </tr>\n",
       "    <tr>\n",
       "      <th>6</th>\n",
       "      <td>1.256250</td>\n",
       "      <td>0.001087</td>\n",
       "      <td>1.259375</td>\n",
       "      <td>-0.008038</td>\n",
       "      <td>1.257812</td>\n",
       "      <td>-0.003468</td>\n",
       "    </tr>\n",
       "    <tr>\n",
       "      <th>7</th>\n",
       "      <td>1.256250</td>\n",
       "      <td>0.001087</td>\n",
       "      <td>1.257812</td>\n",
       "      <td>-0.003468</td>\n",
       "      <td>1.257031</td>\n",
       "      <td>-0.001189</td>\n",
       "    </tr>\n",
       "    <tr>\n",
       "      <th>8</th>\n",
       "      <td>1.256250</td>\n",
       "      <td>0.001087</td>\n",
       "      <td>1.257031</td>\n",
       "      <td>-0.001189</td>\n",
       "      <td>1.256641</td>\n",
       "      <td>-0.000050</td>\n",
       "    </tr>\n",
       "    <tr>\n",
       "      <th>9</th>\n",
       "      <td>1.256250</td>\n",
       "      <td>0.001087</td>\n",
       "      <td>1.256641</td>\n",
       "      <td>-0.000050</td>\n",
       "      <td>1.256445</td>\n",
       "      <td>0.000518</td>\n",
       "    </tr>\n",
       "    <tr>\n",
       "      <th>10</th>\n",
       "      <td>1.256445</td>\n",
       "      <td>0.000518</td>\n",
       "      <td>1.256641</td>\n",
       "      <td>-0.000050</td>\n",
       "      <td>1.256543</td>\n",
       "      <td>0.000234</td>\n",
       "    </tr>\n",
       "    <tr>\n",
       "      <th>11</th>\n",
       "      <td>1.256543</td>\n",
       "      <td>0.000234</td>\n",
       "      <td>1.256641</td>\n",
       "      <td>-0.000050</td>\n",
       "      <td>1.256592</td>\n",
       "      <td>0.000092</td>\n",
       "    </tr>\n",
       "    <tr>\n",
       "      <th>12</th>\n",
       "      <td>1.256592</td>\n",
       "      <td>0.000092</td>\n",
       "      <td>1.256641</td>\n",
       "      <td>-0.000050</td>\n",
       "      <td>1.256616</td>\n",
       "      <td>0.000021</td>\n",
       "    </tr>\n",
       "    <tr>\n",
       "      <th>13</th>\n",
       "      <td>1.256616</td>\n",
       "      <td>0.000021</td>\n",
       "      <td>1.256641</td>\n",
       "      <td>-0.000050</td>\n",
       "      <td>1.256628</td>\n",
       "      <td>-0.000015</td>\n",
       "    </tr>\n",
       "    <tr>\n",
       "      <th>14</th>\n",
       "      <td>1.256616</td>\n",
       "      <td>0.000021</td>\n",
       "      <td>1.256628</td>\n",
       "      <td>-0.000015</td>\n",
       "      <td>1.256622</td>\n",
       "      <td>0.000003</td>\n",
       "    </tr>\n",
       "  </tbody>\n",
       "</table>\n",
       "</div>"
      ],
      "text/plain": [
       "           a      f(a)         b      f(b)         p      f(p)\n",
       "1   1.200000  0.154829  1.300000 -0.132252  1.250000  0.019153\n",
       "2   1.250000  0.019153  1.300000 -0.132252  1.275000 -0.054585\n",
       "3   1.250000  0.019153  1.275000 -0.054585  1.262500 -0.017225\n",
       "4   1.250000  0.019153  1.262500 -0.017225  1.256250  0.001087\n",
       "5   1.256250  0.001087  1.262500 -0.017225  1.259375 -0.008038\n",
       "6   1.256250  0.001087  1.259375 -0.008038  1.257812 -0.003468\n",
       "7   1.256250  0.001087  1.257812 -0.003468  1.257031 -0.001189\n",
       "8   1.256250  0.001087  1.257031 -0.001189  1.256641 -0.000050\n",
       "9   1.256250  0.001087  1.256641 -0.000050  1.256445  0.000518\n",
       "10  1.256445  0.000518  1.256641 -0.000050  1.256543  0.000234\n",
       "11  1.256543  0.000234  1.256641 -0.000050  1.256592  0.000092\n",
       "12  1.256592  0.000092  1.256641 -0.000050  1.256616  0.000021\n",
       "13  1.256616  0.000021  1.256641 -0.000050  1.256628 -0.000015\n",
       "14  1.256616  0.000021  1.256628 -0.000015  1.256622  0.000003"
      ]
     },
     "execution_count": 52,
     "metadata": {},
     "output_type": "execute_result"
    }
   ],
   "source": [
    "Bisection(1.2, 1.3, f, tolerance=pow(10, -5), output=\"table\")"
   ]
  },
  {
   "cell_type": "code",
   "execution_count": 53,
   "metadata": {
    "collapsed": false
   },
   "outputs": [
    {
     "name": "stdout",
     "output_type": "stream",
     "text": [
      "The answer is :  1.256622314\n"
     ]
    }
   ],
   "source": [
    "print(\"The answer is : \" , Bisection(1.2, 1.3, f, tolerance=pow(10, -5), output=\"answer\"))"
   ]
  },
  {
   "cell_type": "code",
   "execution_count": null,
   "metadata": {
    "collapsed": true
   },
   "outputs": [],
   "source": []
  }
 ],
 "metadata": {
  "kernelspec": {
   "display_name": "Python [Root]",
   "language": "python",
   "name": "Python [Root]"
  },
  "language_info": {
   "codemirror_mode": {
    "name": "ipython",
    "version": 3
   },
   "file_extension": ".py",
   "mimetype": "text/x-python",
   "name": "python",
   "nbconvert_exporter": "python",
   "pygments_lexer": "ipython3",
   "version": "3.5.2"
  }
 },
 "nbformat": 4,
 "nbformat_minor": 0
}
