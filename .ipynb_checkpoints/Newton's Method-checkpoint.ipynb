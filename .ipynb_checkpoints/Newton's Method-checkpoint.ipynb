{
 "cells": [
  {
   "cell_type": "markdown",
   "metadata": {},
   "source": [
    "# [Numerical Computing](https://aadimator.github.io/numerical-computing)\n",
    "#### Notes by Aadam - [@aadimator](https://github.com/aadimator)"
   ]
  },
  {
   "cell_type": "markdown",
   "metadata": {},
   "source": [
    "# Newton's Method\n",
    "## Algorithm"
   ]
  },
  {
   "cell_type": "code",
   "execution_count": null,
   "metadata": {
    "collapsed": true
   },
   "outputs": [],
   "source": [
    "'''\n",
    "To find a solution to f(x) = 0 given an initial approximation p₀ :\n",
    "INPUT initial approximation p₀ ; tolerance TOL; maximum number of iterations N₀ .\n",
    "OUTPUT approximate solution p or message of failure.\n",
    "Step 1 Set i = 1.\n",
    "Step 2 While i ≤ N₀ do Steps 3–6.\n",
    "    Step 3 Set p = p₀ − f(p₀ )/f'(p₀). (Compute pᵢ .)\n",
    "    Step 4 If |p − p₀ | < TOL then\n",
    "            OUTPUT (p); (The procedure was successful.)\n",
    "            STOP.\n",
    "    Step 5 Set i = i + 1.\n",
    "    Step 6 Set p₀ = p. (Update p₀ .)\n",
    "Step 7 OUTPUT (‘The method failed after N₀ iterations, N₀ =’, N₀ );\n",
    "        (The procedure was unsuccessful.)\n",
    "        STOP.\n",
    "'''"
   ]
  },
  {
   "cell_type": "markdown",
   "metadata": {},
   "source": [
    "## Code"
   ]
  },
  {
   "cell_type": "code",
   "execution_count": null,
   "metadata": {
    "collapsed": true
   },
   "outputs": [],
   "source": []
  }
 ],
 "metadata": {
  "kernelspec": {
   "display_name": "Python [Root]",
   "language": "python",
   "name": "Python [Root]"
  },
  "language_info": {
   "codemirror_mode": {
    "name": "ipython",
    "version": 3
   },
   "file_extension": ".py",
   "mimetype": "text/x-python",
   "name": "python",
   "nbconvert_exporter": "python",
   "pygments_lexer": "ipython3",
   "version": "3.5.2"
  }
 },
 "nbformat": 4,
 "nbformat_minor": 0
}
