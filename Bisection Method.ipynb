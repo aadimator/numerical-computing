{
 "cells": [
  {
   "cell_type": "markdown",
   "metadata": {},
   "source": [
    "# The Bisection Method"
   ]
  },
  {
   "cell_type": "markdown",
   "metadata": {},
   "source": [
    "## Algorithm"
   ]
  },
  {
   "cell_type": "raw",
   "metadata": {},
   "source": [
    "To find a solution to f(x) = 0 given the continuous function f on the interval [a,b], where f(a) and f(b) have opposite signs:\n",
    "INPUT endpoints a,b; tolerance TOL; maximum number of iterations N₀.\n",
    "OUTPUT approximate solution p or message of failure.\n",
    "Step 1 Set i = 1;\n",
    "         FA = f(a).\n",
    "Step 2 While i ≤ N₀ do Steps 3–6.\n",
    "Step 3 Set p = a + (b − a)/2; (Compute pᵢ.)\n",
    "         FP = f(p).\n",
    "Step 4 If FP = 0 or (b − a)/2 < TOL then\n",
    "         OUTPUT (p); (Procedure completed successfully.)\n",
    "         STOP.\n",
    "Step 5 Set i = i + 1.\n",
    "Step 6 If FA · FP > 0 then set a = p; (Compute aᵢ ,bᵢ .)\n",
    "         FA = FP\n",
    "         else set b = p. (FA is unchanged.)\n",
    "Step 7 OUTPUT (‘Method failed after N₀ iterations, N₀ =’, N₀ );\n",
    "         (The procedure was unsuccessful.)\n",
    "         STOP."
   ]
  },
  {
   "cell_type": "markdown",
   "metadata": {},
   "source": [
    "## Code"
   ]
  },
  {
   "cell_type": "code",
   "execution_count": 65,
   "metadata": {
    "collapsed": false
   },
   "outputs": [],
   "source": [
    "import pandas as pd"
   ]
  },
  {
   "cell_type": "code",
   "execution_count": 66,
   "metadata": {
    "collapsed": false
   },
   "outputs": [],
   "source": [
    "def Bisection(a, b, f, tolerance=0.000001, max_iterations=100, output='answer', stopping_criterion='tolerance', iteration=100):\n",
    "    \"\"\"The Bisection Algorithm\n",
    "\n",
    "    Keyword arguments:\n",
    "    a (double) -- starting interval\n",
    "    b (double) -- ending interval\n",
    "    f (function) -- function defined on interval\n",
    "    tolerance (double) -- error tolerance (default = 0.000001)\n",
    "    max_iterations (int) -- number of maximum iterations (default = 100)\n",
    "    output (string) -- how to output the result (default = 'answer')\n",
    "                possible values are:\n",
    "                  - 'answer' : to show the value of \"p\"\n",
    "                  - 'table' : to show all the values in tabular form\n",
    "    stopping_criterion (string) -- when to stop the processing (default = 'tolerance')\n",
    "                possible vaulse are:\n",
    "                  - 'tolerance' : to stop at a certain tolerance level\n",
    "                  - 'iteration' : to stop at a certain iteration (must provide value for 'iteration' argument)\n",
    "    iteration (int) -- on which iteration to stop the processing (default = 100)\n",
    "    \n",
    "    Returns:\n",
    "    \n",
    "    bool: False if there's a problem\n",
    "    \n",
    "    Otherwise it will return the value according to the value in 'output' argument.\n",
    "    If value of output is 'answer', it will return a float. If it is 'table', it will return a DataFrame.\n",
    "    \"\"\"\n",
    "    \n",
    "    # check if 'f' is a function\n",
    "    if(not callable(f)):\n",
    "        print (\"Please provide a function 'f'\")\n",
    "        return False\n",
    "    \n",
    "    fa = f(a)\n",
    "    fb = f(b)\n",
    "    # check if fa and fb have the same signs\n",
    "    if ((fa > 0 and fb > 0) or (fa < 0 and fb < 0)):\n",
    "        print (\"This problem is unsolvable as\")\n",
    "        print (\"f(a) = \", fa)\n",
    "        print (\"f(b) = \", fb)\n",
    "        print (\"They are both \", \"negative.\" if fa < 0 else \"positive.\")\n",
    "        return False\n",
    "    \n",
    "    A = list()\n",
    "    B = list()\n",
    "    P = list()\n",
    "    FA = list()\n",
    "    FB = list()\n",
    "    FP = list()\n",
    "    \n",
    "    for i in range(1, max_iterations):\n",
    "        p = round(a + (b - a)/2, 9)\n",
    "        fp = f(p)\n",
    "        \n",
    "        A.append(a)\n",
    "        B.append(b)\n",
    "        P.append(p)\n",
    "        FA.append(fa)\n",
    "        FB.append(fb)\n",
    "        FP.append(fp)\n",
    "        \n",
    "        if (fp == 0 or (b-a)/2 < tolerance or (stopping_criterion == 'iteration' and iteration == i)):\n",
    "            if (output == 'answer'):\n",
    "                return p\n",
    "            if (output == 'table'):\n",
    "                # create a table and return it\n",
    "                d = {'a': A, 'f(a)': FA, 'b' : B, 'f(b)' : FB, 'p' : P, 'f(p)': FP}\n",
    "                df = pd.DataFrame(data=d, columns=['a', 'f(a)', 'b', 'f(b)', 'p', 'f(p)'])\n",
    "                df.index = df.index + 1\n",
    "                return df\n",
    "        \n",
    "        if (fa * fp > 0): \n",
    "            a = p\n",
    "            fa = fp\n",
    "        else:\n",
    "            b = p\n",
    "            fb = fp\n",
    "    \n",
    "    print (\"Method failed after \", max_iterations, \" iterations.\")\n",
    "    return False"
   ]
  },
  {
   "cell_type": "markdown",
   "metadata": {},
   "source": [
    "### Example 1\n",
    "Show that f(x) = x³ + 4x² − 10 = 0 has a root in [1,2], and use the Bisection method to determine an approximation to the root that is accurate to at least within 10⁻⁴ "
   ]
  },
  {
   "cell_type": "code",
   "execution_count": 67,
   "metadata": {
    "collapsed": false
   },
   "outputs": [],
   "source": [
    "def f(x):\n",
    "    return pow(x, 3) + 4 * pow(x, 2) - 10"
   ]
  },
  {
   "cell_type": "code",
   "execution_count": 68,
   "metadata": {
    "collapsed": false
   },
   "outputs": [
    {
     "data": {
      "text/html": [
       "<div>\n",
       "<table border=\"1\" class=\"dataframe\">\n",
       "  <thead>\n",
       "    <tr style=\"text-align: right;\">\n",
       "      <th></th>\n",
       "      <th>a</th>\n",
       "      <th>f(a)</th>\n",
       "      <th>b</th>\n",
       "      <th>f(b)</th>\n",
       "      <th>p</th>\n",
       "      <th>f(p)</th>\n",
       "    </tr>\n",
       "  </thead>\n",
       "  <tbody>\n",
       "    <tr>\n",
       "      <th>1</th>\n",
       "      <td>1.000000</td>\n",
       "      <td>-5.000000</td>\n",
       "      <td>2.000000</td>\n",
       "      <td>14.000000</td>\n",
       "      <td>1.500000</td>\n",
       "      <td>2.375000</td>\n",
       "    </tr>\n",
       "    <tr>\n",
       "      <th>2</th>\n",
       "      <td>1.000000</td>\n",
       "      <td>-5.000000</td>\n",
       "      <td>1.500000</td>\n",
       "      <td>2.375000</td>\n",
       "      <td>1.250000</td>\n",
       "      <td>-1.796875</td>\n",
       "    </tr>\n",
       "    <tr>\n",
       "      <th>3</th>\n",
       "      <td>1.250000</td>\n",
       "      <td>-1.796875</td>\n",
       "      <td>1.500000</td>\n",
       "      <td>2.375000</td>\n",
       "      <td>1.375000</td>\n",
       "      <td>0.162109</td>\n",
       "    </tr>\n",
       "    <tr>\n",
       "      <th>4</th>\n",
       "      <td>1.250000</td>\n",
       "      <td>-1.796875</td>\n",
       "      <td>1.375000</td>\n",
       "      <td>0.162109</td>\n",
       "      <td>1.312500</td>\n",
       "      <td>-0.848389</td>\n",
       "    </tr>\n",
       "    <tr>\n",
       "      <th>5</th>\n",
       "      <td>1.312500</td>\n",
       "      <td>-0.848389</td>\n",
       "      <td>1.375000</td>\n",
       "      <td>0.162109</td>\n",
       "      <td>1.343750</td>\n",
       "      <td>-0.350983</td>\n",
       "    </tr>\n",
       "    <tr>\n",
       "      <th>6</th>\n",
       "      <td>1.343750</td>\n",
       "      <td>-0.350983</td>\n",
       "      <td>1.375000</td>\n",
       "      <td>0.162109</td>\n",
       "      <td>1.359375</td>\n",
       "      <td>-0.096409</td>\n",
       "    </tr>\n",
       "    <tr>\n",
       "      <th>7</th>\n",
       "      <td>1.359375</td>\n",
       "      <td>-0.096409</td>\n",
       "      <td>1.375000</td>\n",
       "      <td>0.162109</td>\n",
       "      <td>1.367188</td>\n",
       "      <td>0.032356</td>\n",
       "    </tr>\n",
       "    <tr>\n",
       "      <th>8</th>\n",
       "      <td>1.359375</td>\n",
       "      <td>-0.096409</td>\n",
       "      <td>1.367188</td>\n",
       "      <td>0.032356</td>\n",
       "      <td>1.363281</td>\n",
       "      <td>-0.032150</td>\n",
       "    </tr>\n",
       "    <tr>\n",
       "      <th>9</th>\n",
       "      <td>1.363281</td>\n",
       "      <td>-0.032150</td>\n",
       "      <td>1.367188</td>\n",
       "      <td>0.032356</td>\n",
       "      <td>1.365234</td>\n",
       "      <td>0.000072</td>\n",
       "    </tr>\n",
       "    <tr>\n",
       "      <th>10</th>\n",
       "      <td>1.363281</td>\n",
       "      <td>-0.032150</td>\n",
       "      <td>1.365234</td>\n",
       "      <td>0.000072</td>\n",
       "      <td>1.364258</td>\n",
       "      <td>-0.016047</td>\n",
       "    </tr>\n",
       "    <tr>\n",
       "      <th>11</th>\n",
       "      <td>1.364258</td>\n",
       "      <td>-0.016047</td>\n",
       "      <td>1.365234</td>\n",
       "      <td>0.000072</td>\n",
       "      <td>1.364746</td>\n",
       "      <td>-0.007989</td>\n",
       "    </tr>\n",
       "    <tr>\n",
       "      <th>12</th>\n",
       "      <td>1.364746</td>\n",
       "      <td>-0.007989</td>\n",
       "      <td>1.365234</td>\n",
       "      <td>0.000072</td>\n",
       "      <td>1.364990</td>\n",
       "      <td>-0.003959</td>\n",
       "    </tr>\n",
       "    <tr>\n",
       "      <th>13</th>\n",
       "      <td>1.364990</td>\n",
       "      <td>-0.003959</td>\n",
       "      <td>1.365234</td>\n",
       "      <td>0.000072</td>\n",
       "      <td>1.365112</td>\n",
       "      <td>-0.001944</td>\n",
       "    </tr>\n",
       "    <tr>\n",
       "      <th>14</th>\n",
       "      <td>1.365112</td>\n",
       "      <td>-0.001944</td>\n",
       "      <td>1.365234</td>\n",
       "      <td>0.000072</td>\n",
       "      <td>1.365173</td>\n",
       "      <td>-0.000936</td>\n",
       "    </tr>\n",
       "  </tbody>\n",
       "</table>\n",
       "</div>"
      ],
      "text/plain": [
       "           a      f(a)         b       f(b)         p      f(p)\n",
       "1   1.000000 -5.000000  2.000000  14.000000  1.500000  2.375000\n",
       "2   1.000000 -5.000000  1.500000   2.375000  1.250000 -1.796875\n",
       "3   1.250000 -1.796875  1.500000   2.375000  1.375000  0.162109\n",
       "4   1.250000 -1.796875  1.375000   0.162109  1.312500 -0.848389\n",
       "5   1.312500 -0.848389  1.375000   0.162109  1.343750 -0.350983\n",
       "6   1.343750 -0.350983  1.375000   0.162109  1.359375 -0.096409\n",
       "7   1.359375 -0.096409  1.375000   0.162109  1.367188  0.032356\n",
       "8   1.359375 -0.096409  1.367188   0.032356  1.363281 -0.032150\n",
       "9   1.363281 -0.032150  1.367188   0.032356  1.365234  0.000072\n",
       "10  1.363281 -0.032150  1.365234   0.000072  1.364258 -0.016047\n",
       "11  1.364258 -0.016047  1.365234   0.000072  1.364746 -0.007989\n",
       "12  1.364746 -0.007989  1.365234   0.000072  1.364990 -0.003959\n",
       "13  1.364990 -0.003959  1.365234   0.000072  1.365112 -0.001944\n",
       "14  1.365112 -0.001944  1.365234   0.000072  1.365173 -0.000936"
      ]
     },
     "execution_count": 68,
     "metadata": {},
     "output_type": "execute_result"
    }
   ],
   "source": [
    "Bisection(1, 2, f, pow(10, -4), output=\"table\")"
   ]
  },
  {
   "cell_type": "code",
   "execution_count": 69,
   "metadata": {
    "collapsed": false
   },
   "outputs": [
    {
     "name": "stdout",
     "output_type": "stream",
     "text": [
      "The answer is :  1.36517334\n"
     ]
    }
   ],
   "source": [
    "print(\"The answer is : \" , Bisection(1, 2, f, pow(10, -4), output=\"answer\"))"
   ]
  },
  {
   "cell_type": "markdown",
   "metadata": {},
   "source": [
    "# Exercise Set 2.1"
   ]
  },
  {
   "cell_type": "markdown",
   "metadata": {
    "collapsed": true
   },
   "source": [
    "### (1) Use the Bisection method to find p₃ for f(x) = √x − cosx on [0,1]."
   ]
  },
  {
   "cell_type": "code",
   "execution_count": 70,
   "metadata": {
    "collapsed": true
   },
   "outputs": [],
   "source": [
    "import math\n",
    "def f(x):\n",
    "    return math.sqrt(x) - math.cos(x)"
   ]
  },
  {
   "cell_type": "code",
   "execution_count": 71,
   "metadata": {
    "collapsed": false
   },
   "outputs": [
    {
     "data": {
      "text/html": [
       "<div>\n",
       "<table border=\"1\" class=\"dataframe\">\n",
       "  <thead>\n",
       "    <tr style=\"text-align: right;\">\n",
       "      <th></th>\n",
       "      <th>a</th>\n",
       "      <th>f(a)</th>\n",
       "      <th>b</th>\n",
       "      <th>f(b)</th>\n",
       "      <th>p</th>\n",
       "      <th>f(p)</th>\n",
       "    </tr>\n",
       "  </thead>\n",
       "  <tbody>\n",
       "    <tr>\n",
       "      <th>1</th>\n",
       "      <td>0.0</td>\n",
       "      <td>-1.000000</td>\n",
       "      <td>1.00</td>\n",
       "      <td>0.459698</td>\n",
       "      <td>0.500</td>\n",
       "      <td>-0.170476</td>\n",
       "    </tr>\n",
       "    <tr>\n",
       "      <th>2</th>\n",
       "      <td>0.5</td>\n",
       "      <td>-0.170476</td>\n",
       "      <td>1.00</td>\n",
       "      <td>0.459698</td>\n",
       "      <td>0.750</td>\n",
       "      <td>0.134337</td>\n",
       "    </tr>\n",
       "    <tr>\n",
       "      <th>3</th>\n",
       "      <td>0.5</td>\n",
       "      <td>-0.170476</td>\n",
       "      <td>0.75</td>\n",
       "      <td>0.134337</td>\n",
       "      <td>0.625</td>\n",
       "      <td>-0.020394</td>\n",
       "    </tr>\n",
       "  </tbody>\n",
       "</table>\n",
       "</div>"
      ],
      "text/plain": [
       "     a      f(a)     b      f(b)      p      f(p)\n",
       "1  0.0 -1.000000  1.00  0.459698  0.500 -0.170476\n",
       "2  0.5 -0.170476  1.00  0.459698  0.750  0.134337\n",
       "3  0.5 -0.170476  0.75  0.134337  0.625 -0.020394"
      ]
     },
     "execution_count": 71,
     "metadata": {},
     "output_type": "execute_result"
    }
   ],
   "source": [
    "Bisection(0, 1, f, output=\"table\", stopping_criterion='iteration', iteration=3)"
   ]
  },
  {
   "cell_type": "code",
   "execution_count": 72,
   "metadata": {
    "collapsed": false
   },
   "outputs": [
    {
     "name": "stdout",
     "output_type": "stream",
     "text": [
      "The answer is :  0.625\n"
     ]
    }
   ],
   "source": [
    "print(\"The answer is : \" , Bisection(0, 1, f, output=\"answer\", stopping_criterion='iteration', iteration=3))"
   ]
  },
  {
   "cell_type": "markdown",
   "metadata": {},
   "source": [
    "### (2) Let f(x) = 3(x + 1)(x −1/2)(x − 1). Use the Bisection method on the following intervals to find p₃"
   ]
  },
  {
   "cell_type": "code",
   "execution_count": 73,
   "metadata": {
    "collapsed": true
   },
   "outputs": [],
   "source": [
    "def f(x):\n",
    "    return 3*(x + 1)*(x-(1/2))*(x-1)"
   ]
  },
  {
   "cell_type": "markdown",
   "metadata": {},
   "source": [
    "#### a. [-2, 1.5]"
   ]
  },
  {
   "cell_type": "code",
   "execution_count": 74,
   "metadata": {
    "collapsed": false
   },
   "outputs": [
    {
     "data": {
      "text/html": [
       "<div>\n",
       "<table border=\"1\" class=\"dataframe\">\n",
       "  <thead>\n",
       "    <tr style=\"text-align: right;\">\n",
       "      <th></th>\n",
       "      <th>a</th>\n",
       "      <th>f(a)</th>\n",
       "      <th>b</th>\n",
       "      <th>f(b)</th>\n",
       "      <th>p</th>\n",
       "      <th>f(p)</th>\n",
       "    </tr>\n",
       "  </thead>\n",
       "  <tbody>\n",
       "    <tr>\n",
       "      <th>1</th>\n",
       "      <td>-2.000</td>\n",
       "      <td>-22.500000</td>\n",
       "      <td>1.50</td>\n",
       "      <td>3.750000</td>\n",
       "      <td>-0.2500</td>\n",
       "      <td>2.109375</td>\n",
       "    </tr>\n",
       "    <tr>\n",
       "      <th>2</th>\n",
       "      <td>-2.000</td>\n",
       "      <td>-22.500000</td>\n",
       "      <td>-0.25</td>\n",
       "      <td>2.109375</td>\n",
       "      <td>-1.1250</td>\n",
       "      <td>-1.294922</td>\n",
       "    </tr>\n",
       "    <tr>\n",
       "      <th>3</th>\n",
       "      <td>-1.125</td>\n",
       "      <td>-1.294922</td>\n",
       "      <td>-0.25</td>\n",
       "      <td>2.109375</td>\n",
       "      <td>-0.6875</td>\n",
       "      <td>1.878662</td>\n",
       "    </tr>\n",
       "  </tbody>\n",
       "</table>\n",
       "</div>"
      ],
      "text/plain": [
       "       a       f(a)     b      f(b)       p      f(p)\n",
       "1 -2.000 -22.500000  1.50  3.750000 -0.2500  2.109375\n",
       "2 -2.000 -22.500000 -0.25  2.109375 -1.1250 -1.294922\n",
       "3 -1.125  -1.294922 -0.25  2.109375 -0.6875  1.878662"
      ]
     },
     "execution_count": 74,
     "metadata": {},
     "output_type": "execute_result"
    }
   ],
   "source": [
    "Bisection(-2, 1.5, f, output=\"table\", stopping_criterion='iteration', iteration=3)"
   ]
  },
  {
   "cell_type": "code",
   "execution_count": 75,
   "metadata": {
    "collapsed": false
   },
   "outputs": [
    {
     "name": "stdout",
     "output_type": "stream",
     "text": [
      "The answer is :  -0.6875\n"
     ]
    }
   ],
   "source": [
    "print(\"The answer is : \" , Bisection(-2, 1.5, f, output=\"answer\", stopping_criterion='iteration', iteration=3))"
   ]
  },
  {
   "cell_type": "markdown",
   "metadata": {},
   "source": [
    "#### b. [−1.25,2.5]"
   ]
  },
  {
   "cell_type": "code",
   "execution_count": 76,
   "metadata": {
    "collapsed": false
   },
   "outputs": [
    {
     "data": {
      "text/html": [
       "<div>\n",
       "<table border=\"1\" class=\"dataframe\">\n",
       "  <thead>\n",
       "    <tr style=\"text-align: right;\">\n",
       "      <th></th>\n",
       "      <th>a</th>\n",
       "      <th>f(a)</th>\n",
       "      <th>b</th>\n",
       "      <th>f(b)</th>\n",
       "      <th>p</th>\n",
       "      <th>f(p)</th>\n",
       "    </tr>\n",
       "  </thead>\n",
       "  <tbody>\n",
       "    <tr>\n",
       "      <th>1</th>\n",
       "      <td>-1.250</td>\n",
       "      <td>-2.953125</td>\n",
       "      <td>2.5000</td>\n",
       "      <td>31.500000</td>\n",
       "      <td>0.62500</td>\n",
       "      <td>-0.228516</td>\n",
       "    </tr>\n",
       "    <tr>\n",
       "      <th>2</th>\n",
       "      <td>0.625</td>\n",
       "      <td>-0.228516</td>\n",
       "      <td>2.5000</td>\n",
       "      <td>31.500000</td>\n",
       "      <td>1.56250</td>\n",
       "      <td>4.594482</td>\n",
       "    </tr>\n",
       "    <tr>\n",
       "      <th>3</th>\n",
       "      <td>0.625</td>\n",
       "      <td>-0.228516</td>\n",
       "      <td>1.5625</td>\n",
       "      <td>4.594482</td>\n",
       "      <td>1.09375</td>\n",
       "      <td>0.349640</td>\n",
       "    </tr>\n",
       "  </tbody>\n",
       "</table>\n",
       "</div>"
      ],
      "text/plain": [
       "       a      f(a)       b       f(b)        p      f(p)\n",
       "1 -1.250 -2.953125  2.5000  31.500000  0.62500 -0.228516\n",
       "2  0.625 -0.228516  2.5000  31.500000  1.56250  4.594482\n",
       "3  0.625 -0.228516  1.5625   4.594482  1.09375  0.349640"
      ]
     },
     "execution_count": 76,
     "metadata": {},
     "output_type": "execute_result"
    }
   ],
   "source": [
    "Bisection(-1.25, 2.5, f, output=\"table\", stopping_criterion='iteration', iteration=3)"
   ]
  },
  {
   "cell_type": "code",
   "execution_count": 77,
   "metadata": {
    "collapsed": false
   },
   "outputs": [
    {
     "name": "stdout",
     "output_type": "stream",
     "text": [
      "The answer is :  1.09375\n"
     ]
    }
   ],
   "source": [
    "print(\"The answer is : \" , Bisection(-1.25, 2.5, f, output=\"answer\", stopping_criterion='iteration', iteration=3))"
   ]
  },
  {
   "cell_type": "markdown",
   "metadata": {},
   "source": [
    "### (3) Use the Bisection method to find solutions accurate to within 10⁻² for x³ − 7x² + 14x − 6 = 0 on each interval."
   ]
  },
  {
   "cell_type": "code",
   "execution_count": 78,
   "metadata": {
    "collapsed": true
   },
   "outputs": [],
   "source": [
    "def f(x):\n",
    "    return pow(x, 3) - 7*pow(x, 2) + 14*x - 6"
   ]
  },
  {
   "cell_type": "markdown",
   "metadata": {},
   "source": [
    "#### a. [0,1] "
   ]
  },
  {
   "cell_type": "code",
   "execution_count": 79,
   "metadata": {
    "collapsed": false
   },
   "outputs": [
    {
     "data": {
      "text/html": [
       "<div>\n",
       "<table border=\"1\" class=\"dataframe\">\n",
       "  <thead>\n",
       "    <tr style=\"text-align: right;\">\n",
       "      <th></th>\n",
       "      <th>a</th>\n",
       "      <th>f(a)</th>\n",
       "      <th>b</th>\n",
       "      <th>f(b)</th>\n",
       "      <th>p</th>\n",
       "      <th>f(p)</th>\n",
       "    </tr>\n",
       "  </thead>\n",
       "  <tbody>\n",
       "    <tr>\n",
       "      <th>1</th>\n",
       "      <td>0.000000</td>\n",
       "      <td>-6.000000</td>\n",
       "      <td>1.00000</td>\n",
       "      <td>2.000000</td>\n",
       "      <td>0.500000</td>\n",
       "      <td>-0.625000</td>\n",
       "    </tr>\n",
       "    <tr>\n",
       "      <th>2</th>\n",
       "      <td>0.500000</td>\n",
       "      <td>-0.625000</td>\n",
       "      <td>1.00000</td>\n",
       "      <td>2.000000</td>\n",
       "      <td>0.750000</td>\n",
       "      <td>0.984375</td>\n",
       "    </tr>\n",
       "    <tr>\n",
       "      <th>3</th>\n",
       "      <td>0.500000</td>\n",
       "      <td>-0.625000</td>\n",
       "      <td>0.75000</td>\n",
       "      <td>0.984375</td>\n",
       "      <td>0.625000</td>\n",
       "      <td>0.259766</td>\n",
       "    </tr>\n",
       "    <tr>\n",
       "      <th>4</th>\n",
       "      <td>0.500000</td>\n",
       "      <td>-0.625000</td>\n",
       "      <td>0.62500</td>\n",
       "      <td>0.259766</td>\n",
       "      <td>0.562500</td>\n",
       "      <td>-0.161865</td>\n",
       "    </tr>\n",
       "    <tr>\n",
       "      <th>5</th>\n",
       "      <td>0.562500</td>\n",
       "      <td>-0.161865</td>\n",
       "      <td>0.62500</td>\n",
       "      <td>0.259766</td>\n",
       "      <td>0.593750</td>\n",
       "      <td>0.054047</td>\n",
       "    </tr>\n",
       "    <tr>\n",
       "      <th>6</th>\n",
       "      <td>0.562500</td>\n",
       "      <td>-0.161865</td>\n",
       "      <td>0.59375</td>\n",
       "      <td>0.054047</td>\n",
       "      <td>0.578125</td>\n",
       "      <td>-0.052624</td>\n",
       "    </tr>\n",
       "    <tr>\n",
       "      <th>7</th>\n",
       "      <td>0.578125</td>\n",
       "      <td>-0.052624</td>\n",
       "      <td>0.59375</td>\n",
       "      <td>0.054047</td>\n",
       "      <td>0.585938</td>\n",
       "      <td>0.001031</td>\n",
       "    </tr>\n",
       "  </tbody>\n",
       "</table>\n",
       "</div>"
      ],
      "text/plain": [
       "          a      f(a)        b      f(b)         p      f(p)\n",
       "1  0.000000 -6.000000  1.00000  2.000000  0.500000 -0.625000\n",
       "2  0.500000 -0.625000  1.00000  2.000000  0.750000  0.984375\n",
       "3  0.500000 -0.625000  0.75000  0.984375  0.625000  0.259766\n",
       "4  0.500000 -0.625000  0.62500  0.259766  0.562500 -0.161865\n",
       "5  0.562500 -0.161865  0.62500  0.259766  0.593750  0.054047\n",
       "6  0.562500 -0.161865  0.59375  0.054047  0.578125 -0.052624\n",
       "7  0.578125 -0.052624  0.59375  0.054047  0.585938  0.001031"
      ]
     },
     "execution_count": 79,
     "metadata": {},
     "output_type": "execute_result"
    }
   ],
   "source": [
    "Bisection(0, 1, f, tolerance=pow(10, -2), output=\"table\")"
   ]
  },
  {
   "cell_type": "code",
   "execution_count": 80,
   "metadata": {
    "collapsed": false
   },
   "outputs": [
    {
     "name": "stdout",
     "output_type": "stream",
     "text": [
      "The answer is :  0.5859375\n"
     ]
    }
   ],
   "source": [
    "print(\"The answer is : \" , Bisection(0, 1, f, tolerance=pow(10, -2), output=\"answer\"))"
   ]
  },
  {
   "cell_type": "markdown",
   "metadata": {},
   "source": [
    "#### b. [1,3.2]"
   ]
  },
  {
   "cell_type": "code",
   "execution_count": 81,
   "metadata": {
    "collapsed": false
   },
   "outputs": [
    {
     "data": {
      "text/html": [
       "<div>\n",
       "<table border=\"1\" class=\"dataframe\">\n",
       "  <thead>\n",
       "    <tr style=\"text-align: right;\">\n",
       "      <th></th>\n",
       "      <th>a</th>\n",
       "      <th>f(a)</th>\n",
       "      <th>b</th>\n",
       "      <th>f(b)</th>\n",
       "      <th>p</th>\n",
       "      <th>f(p)</th>\n",
       "    </tr>\n",
       "  </thead>\n",
       "  <tbody>\n",
       "    <tr>\n",
       "      <th>1</th>\n",
       "      <td>1.00000</td>\n",
       "      <td>2.000000</td>\n",
       "      <td>3.200000</td>\n",
       "      <td>-0.112000</td>\n",
       "      <td>2.100000</td>\n",
       "      <td>1.791000</td>\n",
       "    </tr>\n",
       "    <tr>\n",
       "      <th>2</th>\n",
       "      <td>2.10000</td>\n",
       "      <td>1.791000</td>\n",
       "      <td>3.200000</td>\n",
       "      <td>-0.112000</td>\n",
       "      <td>2.650000</td>\n",
       "      <td>0.552125</td>\n",
       "    </tr>\n",
       "    <tr>\n",
       "      <th>3</th>\n",
       "      <td>2.65000</td>\n",
       "      <td>0.552125</td>\n",
       "      <td>3.200000</td>\n",
       "      <td>-0.112000</td>\n",
       "      <td>2.925000</td>\n",
       "      <td>0.085828</td>\n",
       "    </tr>\n",
       "    <tr>\n",
       "      <th>4</th>\n",
       "      <td>2.92500</td>\n",
       "      <td>0.085828</td>\n",
       "      <td>3.200000</td>\n",
       "      <td>-0.112000</td>\n",
       "      <td>3.062500</td>\n",
       "      <td>-0.054443</td>\n",
       "    </tr>\n",
       "    <tr>\n",
       "      <th>5</th>\n",
       "      <td>2.92500</td>\n",
       "      <td>0.085828</td>\n",
       "      <td>3.062500</td>\n",
       "      <td>-0.054443</td>\n",
       "      <td>2.993750</td>\n",
       "      <td>0.006328</td>\n",
       "    </tr>\n",
       "    <tr>\n",
       "      <th>6</th>\n",
       "      <td>2.99375</td>\n",
       "      <td>0.006328</td>\n",
       "      <td>3.062500</td>\n",
       "      <td>-0.054443</td>\n",
       "      <td>3.028125</td>\n",
       "      <td>-0.026521</td>\n",
       "    </tr>\n",
       "    <tr>\n",
       "      <th>7</th>\n",
       "      <td>2.99375</td>\n",
       "      <td>0.006328</td>\n",
       "      <td>3.028125</td>\n",
       "      <td>-0.026521</td>\n",
       "      <td>3.010937</td>\n",
       "      <td>-0.010697</td>\n",
       "    </tr>\n",
       "    <tr>\n",
       "      <th>8</th>\n",
       "      <td>2.99375</td>\n",
       "      <td>0.006328</td>\n",
       "      <td>3.010937</td>\n",
       "      <td>-0.010697</td>\n",
       "      <td>3.002344</td>\n",
       "      <td>-0.002333</td>\n",
       "    </tr>\n",
       "  </tbody>\n",
       "</table>\n",
       "</div>"
      ],
      "text/plain": [
       "         a      f(a)         b      f(b)         p      f(p)\n",
       "1  1.00000  2.000000  3.200000 -0.112000  2.100000  1.791000\n",
       "2  2.10000  1.791000  3.200000 -0.112000  2.650000  0.552125\n",
       "3  2.65000  0.552125  3.200000 -0.112000  2.925000  0.085828\n",
       "4  2.92500  0.085828  3.200000 -0.112000  3.062500 -0.054443\n",
       "5  2.92500  0.085828  3.062500 -0.054443  2.993750  0.006328\n",
       "6  2.99375  0.006328  3.062500 -0.054443  3.028125 -0.026521\n",
       "7  2.99375  0.006328  3.028125 -0.026521  3.010937 -0.010697\n",
       "8  2.99375  0.006328  3.010937 -0.010697  3.002344 -0.002333"
      ]
     },
     "execution_count": 81,
     "metadata": {},
     "output_type": "execute_result"
    }
   ],
   "source": [
    "Bisection(1, 3.2, f, tolerance=pow(10, -2), output=\"table\")"
   ]
  },
  {
   "cell_type": "code",
   "execution_count": 82,
   "metadata": {
    "collapsed": false
   },
   "outputs": [
    {
     "name": "stdout",
     "output_type": "stream",
     "text": [
      "The answer is :  3.00234375\n"
     ]
    }
   ],
   "source": [
    "print(\"The answer is : \" , Bisection(1, 3.2, f, tolerance=pow(10, -2), output=\"answer\"))"
   ]
  },
  {
   "cell_type": "markdown",
   "metadata": {},
   "source": [
    "#### c. [3.2,4]"
   ]
  },
  {
   "cell_type": "code",
   "execution_count": 83,
   "metadata": {
    "collapsed": false
   },
   "outputs": [
    {
     "data": {
      "text/html": [
       "<div>\n",
       "<table border=\"1\" class=\"dataframe\">\n",
       "  <thead>\n",
       "    <tr style=\"text-align: right;\">\n",
       "      <th></th>\n",
       "      <th>a</th>\n",
       "      <th>f(a)</th>\n",
       "      <th>b</th>\n",
       "      <th>f(b)</th>\n",
       "      <th>p</th>\n",
       "      <th>f(p)</th>\n",
       "    </tr>\n",
       "  </thead>\n",
       "  <tbody>\n",
       "    <tr>\n",
       "      <th>1</th>\n",
       "      <td>3.2000</td>\n",
       "      <td>-0.112000</td>\n",
       "      <td>4.000</td>\n",
       "      <td>2.000000</td>\n",
       "      <td>3.60000</td>\n",
       "      <td>0.336000</td>\n",
       "    </tr>\n",
       "    <tr>\n",
       "      <th>2</th>\n",
       "      <td>3.2000</td>\n",
       "      <td>-0.112000</td>\n",
       "      <td>3.600</td>\n",
       "      <td>0.336000</td>\n",
       "      <td>3.40000</td>\n",
       "      <td>-0.016000</td>\n",
       "    </tr>\n",
       "    <tr>\n",
       "      <th>3</th>\n",
       "      <td>3.4000</td>\n",
       "      <td>-0.016000</td>\n",
       "      <td>3.600</td>\n",
       "      <td>0.336000</td>\n",
       "      <td>3.50000</td>\n",
       "      <td>0.125000</td>\n",
       "    </tr>\n",
       "    <tr>\n",
       "      <th>4</th>\n",
       "      <td>3.4000</td>\n",
       "      <td>-0.016000</td>\n",
       "      <td>3.500</td>\n",
       "      <td>0.125000</td>\n",
       "      <td>3.45000</td>\n",
       "      <td>0.046125</td>\n",
       "    </tr>\n",
       "    <tr>\n",
       "      <th>5</th>\n",
       "      <td>3.4000</td>\n",
       "      <td>-0.016000</td>\n",
       "      <td>3.450</td>\n",
       "      <td>0.046125</td>\n",
       "      <td>3.42500</td>\n",
       "      <td>0.013016</td>\n",
       "    </tr>\n",
       "    <tr>\n",
       "      <th>6</th>\n",
       "      <td>3.4000</td>\n",
       "      <td>-0.016000</td>\n",
       "      <td>3.425</td>\n",
       "      <td>0.013016</td>\n",
       "      <td>3.41250</td>\n",
       "      <td>-0.001998</td>\n",
       "    </tr>\n",
       "    <tr>\n",
       "      <th>7</th>\n",
       "      <td>3.4125</td>\n",
       "      <td>-0.001998</td>\n",
       "      <td>3.425</td>\n",
       "      <td>0.013016</td>\n",
       "      <td>3.41875</td>\n",
       "      <td>0.005382</td>\n",
       "    </tr>\n",
       "  </tbody>\n",
       "</table>\n",
       "</div>"
      ],
      "text/plain": [
       "        a      f(a)      b      f(b)        p      f(p)\n",
       "1  3.2000 -0.112000  4.000  2.000000  3.60000  0.336000\n",
       "2  3.2000 -0.112000  3.600  0.336000  3.40000 -0.016000\n",
       "3  3.4000 -0.016000  3.600  0.336000  3.50000  0.125000\n",
       "4  3.4000 -0.016000  3.500  0.125000  3.45000  0.046125\n",
       "5  3.4000 -0.016000  3.450  0.046125  3.42500  0.013016\n",
       "6  3.4000 -0.016000  3.425  0.013016  3.41250 -0.001998\n",
       "7  3.4125 -0.001998  3.425  0.013016  3.41875  0.005382"
      ]
     },
     "execution_count": 83,
     "metadata": {},
     "output_type": "execute_result"
    }
   ],
   "source": [
    "Bisection(3.2, 4, f, tolerance=pow(10, -2), output=\"table\")"
   ]
  },
  {
   "cell_type": "code",
   "execution_count": 84,
   "metadata": {
    "collapsed": false
   },
   "outputs": [
    {
     "name": "stdout",
     "output_type": "stream",
     "text": [
      "The answer is :  3.41875\n"
     ]
    }
   ],
   "source": [
    "print(\"The answer is : \" , Bisection(3.2, 4, f, tolerance=pow(10, -2), output=\"answer\"))"
   ]
  },
  {
   "cell_type": "code",
   "execution_count": null,
   "metadata": {
    "collapsed": true
   },
   "outputs": [],
   "source": []
  }
 ],
 "metadata": {
  "kernelspec": {
   "display_name": "Python [Root]",
   "language": "python",
   "name": "Python [Root]"
  },
  "language_info": {
   "codemirror_mode": {
    "name": "ipython",
    "version": 3
   },
   "file_extension": ".py",
   "mimetype": "text/x-python",
   "name": "python",
   "nbconvert_exporter": "python",
   "pygments_lexer": "ipython3",
   "version": "3.5.2"
  }
 },
 "nbformat": 4,
 "nbformat_minor": 0
}
