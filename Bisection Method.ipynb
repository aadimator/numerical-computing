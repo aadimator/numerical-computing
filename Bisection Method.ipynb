{
 "cells": [
  {
   "cell_type": "markdown",
   "metadata": {},
   "source": [
    "# The Bisection Method"
   ]
  },
  {
   "cell_type": "markdown",
   "metadata": {},
   "source": [
    "## Algorithm"
   ]
  },
  {
   "cell_type": "raw",
   "metadata": {},
   "source": [
    "To find a solution to f(x) = 0 given the continuous function f on the interval [a,b], where f(a) and f(b) have opposite signs:\n",
    "INPUT endpoints a,b; tolerance TOL; maximum number of iterations N₀.\n",
    "OUTPUT approximate solution p or message of failure.\n",
    "Step 1 Set i = 1;\n",
    "         FA = f(a).\n",
    "Step 2 While i ≤ N₀ do Steps 3–6.\n",
    "Step 3 Set p = a + (b − a)/2; (Compute pᵢ.)\n",
    "         FP = f(p).\n",
    "Step 4 If FP = 0 or (b − a)/2 < TOL then\n",
    "         OUTPUT (p); (Procedure completed successfully.)\n",
    "         STOP.\n",
    "Step 5 Set i = i + 1.\n",
    "Step 6 If FA · FP > 0 then set a = p; (Compute aᵢ ,bᵢ .)\n",
    "         FA = FP\n",
    "         else set b = p. (FA is unchanged.)\n",
    "Step 7 OUTPUT (‘Method failed after N₀ iterations, N₀ =’, N₀ );\n",
    "         (The procedure was unsuccessful.)\n",
    "         STOP."
   ]
  },
  {
   "cell_type": "markdown",
   "metadata": {},
   "source": [
    "## Code"
   ]
  },
  {
   "cell_type": "code",
   "execution_count": 6,
   "metadata": {
    "collapsed": false
   },
   "outputs": [],
   "source": [
    "import pandas as pd"
   ]
  },
  {
   "cell_type": "code",
   "execution_count": 24,
   "metadata": {
    "collapsed": false
   },
   "outputs": [],
   "source": [
    "def Bisection(a, b, f, tolerance=0.000001, max_iterations=100, output='answer', stopping_criterion='tolerance', iteration=100):\n",
    "    \"\"\"The Bisection Algorithm\n",
    "\n",
    "    Keyword arguments:\n",
    "    a (double) -- starting interval\n",
    "    b (double) -- ending interval\n",
    "    f (function) -- function defined on interval\n",
    "    tolerance (double) -- error tolerance (default = 0.000001)\n",
    "    max_iterations (int) -- number of maximum iterations (default = 100)\n",
    "    output (string) -- how to output the result (default = 'answer')\n",
    "                possible values are:\n",
    "                  - 'answer' : to show the value of \"p\"\n",
    "                  - 'table' : to show all the values in tabular form\n",
    "    stopping_criterion (string) -- when to stop the processing (default = 'tolerance')\n",
    "                possible vaulse are:\n",
    "                  - 'tolerance' : to stop at a certain tolerance level\n",
    "                  - 'iteration' : to stop at a certain iteration (must provide value for 'iteration' argument)\n",
    "    iteration (int) -- on which iteration to stop the processing (default = 100)\n",
    "    \n",
    "    Returns:\n",
    "    \n",
    "    bool: False if there's a problem\n",
    "    \n",
    "    Otherwise it will return the value according to the value in 'output' argument.\n",
    "    If value of output is 'answer', it will return a float. If it is 'table', it will return a DataFrame.\n",
    "    \"\"\"\n",
    "    \n",
    "    # check if 'f' is a function\n",
    "    if(not callable(f)):\n",
    "        print (\"Please provide a function 'f'\")\n",
    "        return False\n",
    "    \n",
    "    fa = f(a)\n",
    "    fb = f(b)\n",
    "    # check if fa and fb have the same signs\n",
    "    if ((fa > 0 and fb > 0) or (fa < 0 and fb < 0)):\n",
    "        print (\"This problem is unsolvable as\")\n",
    "        print (\"f(a) = \", fa)\n",
    "        print (\"f(b) = \", fb)\n",
    "        print (\"They are both \", \"negative.\" if fa < 0 else \"positive.\")\n",
    "        return False\n",
    "    \n",
    "    A = list()\n",
    "    B = list()\n",
    "    P = list()\n",
    "    FA = list()\n",
    "    FB = list()\n",
    "    FP = list()\n",
    "    \n",
    "    for i in range(1, max_iterations):\n",
    "        p = round(a + (b - a)/2, 9)\n",
    "        fp = f(p)\n",
    "        \n",
    "        A.append(a)\n",
    "        B.append(b)\n",
    "        P.append(p)\n",
    "        FA.append(fa)\n",
    "        FB.append(fb)\n",
    "        FP.append(fp)\n",
    "        \n",
    "        if (fp == 0 or (b-a)/2 < tolerance or (stopping_criterion == 'iteration' and iteration == i)):\n",
    "            if (output == 'answer'):\n",
    "                return p\n",
    "            if (output == 'table'):\n",
    "                # create a table and return it\n",
    "                d = {'a': A, 'f(a)': FA, 'b' : B, 'f(b)' : FB, 'p' : P, 'f(p)': FP}\n",
    "                df = pd.DataFrame(data=d, columns=['a', 'f(a)', 'b', 'f(b)', 'p', 'f(p)'])\n",
    "                df.index = df.index + 1\n",
    "                return df\n",
    "        \n",
    "        if (fa * fp > 0): \n",
    "            a = p\n",
    "            fa = fp\n",
    "        else:\n",
    "            b = p\n",
    "            fb = fp\n",
    "    \n",
    "    print (\"Method failed after \", max_iterations, \" iterations.\")\n",
    "    return False"
   ]
  },
  {
   "cell_type": "markdown",
   "metadata": {},
   "source": [
    "### Example 1\n",
    "Show that f(x) = x³ + 4x² − 10 = 0 has a root in [1,2], and use the Bisection method to determine an approximation to the root that is accurate to at least within 10⁻⁴ "
   ]
  },
  {
   "cell_type": "code",
   "execution_count": 25,
   "metadata": {
    "collapsed": false
   },
   "outputs": [],
   "source": [
    "def f(x):\n",
    "    return pow(x, 3) + 4 * pow(x, 2) - 10"
   ]
  },
  {
   "cell_type": "code",
   "execution_count": 26,
   "metadata": {
    "collapsed": false
   },
   "outputs": [
    {
     "data": {
      "text/html": [
       "<div>\n",
       "<table border=\"1\" class=\"dataframe\">\n",
       "  <thead>\n",
       "    <tr style=\"text-align: right;\">\n",
       "      <th></th>\n",
       "      <th>a</th>\n",
       "      <th>f(a)</th>\n",
       "      <th>b</th>\n",
       "      <th>f(b)</th>\n",
       "      <th>p</th>\n",
       "      <th>f(p)</th>\n",
       "    </tr>\n",
       "  </thead>\n",
       "  <tbody>\n",
       "    <tr>\n",
       "      <th>1</th>\n",
       "      <td>1.000000</td>\n",
       "      <td>-5.000000</td>\n",
       "      <td>2.000000</td>\n",
       "      <td>14.000000</td>\n",
       "      <td>1.500000</td>\n",
       "      <td>2.375000</td>\n",
       "    </tr>\n",
       "    <tr>\n",
       "      <th>2</th>\n",
       "      <td>1.000000</td>\n",
       "      <td>-5.000000</td>\n",
       "      <td>1.500000</td>\n",
       "      <td>2.375000</td>\n",
       "      <td>1.250000</td>\n",
       "      <td>-1.796875</td>\n",
       "    </tr>\n",
       "    <tr>\n",
       "      <th>3</th>\n",
       "      <td>1.250000</td>\n",
       "      <td>-1.796875</td>\n",
       "      <td>1.500000</td>\n",
       "      <td>2.375000</td>\n",
       "      <td>1.375000</td>\n",
       "      <td>0.162109</td>\n",
       "    </tr>\n",
       "    <tr>\n",
       "      <th>4</th>\n",
       "      <td>1.250000</td>\n",
       "      <td>-1.796875</td>\n",
       "      <td>1.375000</td>\n",
       "      <td>0.162109</td>\n",
       "      <td>1.312500</td>\n",
       "      <td>-0.848389</td>\n",
       "    </tr>\n",
       "    <tr>\n",
       "      <th>5</th>\n",
       "      <td>1.312500</td>\n",
       "      <td>-0.848389</td>\n",
       "      <td>1.375000</td>\n",
       "      <td>0.162109</td>\n",
       "      <td>1.343750</td>\n",
       "      <td>-0.350983</td>\n",
       "    </tr>\n",
       "    <tr>\n",
       "      <th>6</th>\n",
       "      <td>1.343750</td>\n",
       "      <td>-0.350983</td>\n",
       "      <td>1.375000</td>\n",
       "      <td>0.162109</td>\n",
       "      <td>1.359375</td>\n",
       "      <td>-0.096409</td>\n",
       "    </tr>\n",
       "    <tr>\n",
       "      <th>7</th>\n",
       "      <td>1.359375</td>\n",
       "      <td>-0.096409</td>\n",
       "      <td>1.375000</td>\n",
       "      <td>0.162109</td>\n",
       "      <td>1.367188</td>\n",
       "      <td>0.032356</td>\n",
       "    </tr>\n",
       "    <tr>\n",
       "      <th>8</th>\n",
       "      <td>1.359375</td>\n",
       "      <td>-0.096409</td>\n",
       "      <td>1.367188</td>\n",
       "      <td>0.032356</td>\n",
       "      <td>1.363281</td>\n",
       "      <td>-0.032150</td>\n",
       "    </tr>\n",
       "    <tr>\n",
       "      <th>9</th>\n",
       "      <td>1.363281</td>\n",
       "      <td>-0.032150</td>\n",
       "      <td>1.367188</td>\n",
       "      <td>0.032356</td>\n",
       "      <td>1.365234</td>\n",
       "      <td>0.000072</td>\n",
       "    </tr>\n",
       "    <tr>\n",
       "      <th>10</th>\n",
       "      <td>1.363281</td>\n",
       "      <td>-0.032150</td>\n",
       "      <td>1.365234</td>\n",
       "      <td>0.000072</td>\n",
       "      <td>1.364258</td>\n",
       "      <td>-0.016047</td>\n",
       "    </tr>\n",
       "    <tr>\n",
       "      <th>11</th>\n",
       "      <td>1.364258</td>\n",
       "      <td>-0.016047</td>\n",
       "      <td>1.365234</td>\n",
       "      <td>0.000072</td>\n",
       "      <td>1.364746</td>\n",
       "      <td>-0.007989</td>\n",
       "    </tr>\n",
       "    <tr>\n",
       "      <th>12</th>\n",
       "      <td>1.364746</td>\n",
       "      <td>-0.007989</td>\n",
       "      <td>1.365234</td>\n",
       "      <td>0.000072</td>\n",
       "      <td>1.364990</td>\n",
       "      <td>-0.003959</td>\n",
       "    </tr>\n",
       "    <tr>\n",
       "      <th>13</th>\n",
       "      <td>1.364990</td>\n",
       "      <td>-0.003959</td>\n",
       "      <td>1.365234</td>\n",
       "      <td>0.000072</td>\n",
       "      <td>1.365112</td>\n",
       "      <td>-0.001944</td>\n",
       "    </tr>\n",
       "    <tr>\n",
       "      <th>14</th>\n",
       "      <td>1.365112</td>\n",
       "      <td>-0.001944</td>\n",
       "      <td>1.365234</td>\n",
       "      <td>0.000072</td>\n",
       "      <td>1.365173</td>\n",
       "      <td>-0.000936</td>\n",
       "    </tr>\n",
       "  </tbody>\n",
       "</table>\n",
       "</div>"
      ],
      "text/plain": [
       "           a      f(a)         b       f(b)         p      f(p)\n",
       "1   1.000000 -5.000000  2.000000  14.000000  1.500000  2.375000\n",
       "2   1.000000 -5.000000  1.500000   2.375000  1.250000 -1.796875\n",
       "3   1.250000 -1.796875  1.500000   2.375000  1.375000  0.162109\n",
       "4   1.250000 -1.796875  1.375000   0.162109  1.312500 -0.848389\n",
       "5   1.312500 -0.848389  1.375000   0.162109  1.343750 -0.350983\n",
       "6   1.343750 -0.350983  1.375000   0.162109  1.359375 -0.096409\n",
       "7   1.359375 -0.096409  1.375000   0.162109  1.367188  0.032356\n",
       "8   1.359375 -0.096409  1.367188   0.032356  1.363281 -0.032150\n",
       "9   1.363281 -0.032150  1.367188   0.032356  1.365234  0.000072\n",
       "10  1.363281 -0.032150  1.365234   0.000072  1.364258 -0.016047\n",
       "11  1.364258 -0.016047  1.365234   0.000072  1.364746 -0.007989\n",
       "12  1.364746 -0.007989  1.365234   0.000072  1.364990 -0.003959\n",
       "13  1.364990 -0.003959  1.365234   0.000072  1.365112 -0.001944\n",
       "14  1.365112 -0.001944  1.365234   0.000072  1.365173 -0.000936"
      ]
     },
     "execution_count": 26,
     "metadata": {},
     "output_type": "execute_result"
    }
   ],
   "source": [
    "Bisection(1, 2, f, pow(10, -4), output=\"table\")"
   ]
  },
  {
   "cell_type": "code",
   "execution_count": 11,
   "metadata": {
    "collapsed": false
   },
   "outputs": [
    {
     "name": "stdout",
     "output_type": "stream",
     "text": [
      "The answer is :  1.364257812\n"
     ]
    }
   ],
   "source": [
    "print(\"The answer is : \" , Bisection(1, 2, f, pow(10, -4), output=\"answer\", stopping_criterion='iteration', iteration=10))"
   ]
  },
  {
   "cell_type": "markdown",
   "metadata": {},
   "source": [
    "# Exercise Set 2.1"
   ]
  },
  {
   "cell_type": "code",
   "execution_count": null,
   "metadata": {
    "collapsed": true
   },
   "outputs": [],
   "source": []
  }
 ],
 "metadata": {
  "kernelspec": {
   "display_name": "Python [Root]",
   "language": "python",
   "name": "Python [Root]"
  },
  "language_info": {
   "codemirror_mode": {
    "name": "ipython",
    "version": 3
   },
   "file_extension": ".py",
   "mimetype": "text/x-python",
   "name": "python",
   "nbconvert_exporter": "python",
   "pygments_lexer": "ipython3",
   "version": "3.5.2"
  }
 },
 "nbformat": 4,
 "nbformat_minor": 0
}
