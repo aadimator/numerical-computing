{
 "cells": [
  {
   "cell_type": "markdown",
   "metadata": {},
   "source": [
    "# [Numerical Computing](https://aadimator.github.io/numerical-computing)\n",
    "#### Notes by Aadam - [@aadimator](https://github.com/aadimator)"
   ]
  },
  {
   "cell_type": "markdown",
   "metadata": {},
   "source": [
    "# Newton's Method\n",
    "## Algorithm"
   ]
  },
  {
   "cell_type": "code",
   "execution_count": null,
   "metadata": {
    "collapsed": true
   },
   "outputs": [],
   "source": [
    "'''\n",
    "To find a solution to f(x) = 0 given an initial approximation p₀ :\n",
    "INPUT initial approximation p₀ ; tolerance TOL; maximum number of iterations N₀ .\n",
    "OUTPUT approximate solution p or message of failure.\n",
    "Step 1 Set i = 1.\n",
    "Step 2 While i ≤ N₀ do Steps 3–6.\n",
    "    Step 3 Set p = p₀ − f(p₀ )/f'(p₀). (Compute pᵢ .)\n",
    "    Step 4 If |p − p₀ | < TOL then\n",
    "            OUTPUT (p); (The procedure was successful.)\n",
    "            STOP.\n",
    "    Step 5 Set i = i + 1.\n",
    "    Step 6 Set p₀ = p. (Update p₀ .)\n",
    "Step 7 OUTPUT (‘The method failed after N₀ iterations, N₀ =’, N₀ );\n",
    "        (The procedure was unsuccessful.)\n",
    "        STOP.\n",
    "'''"
   ]
  },
  {
   "cell_type": "markdown",
   "metadata": {},
   "source": [
    "## Code"
   ]
  },
  {
   "cell_type": "code",
   "execution_count": 65,
   "metadata": {
    "collapsed": true
   },
   "outputs": [],
   "source": [
    "import pandas as pd\n",
    "from sympy import *\n",
    "\n",
    "def NewtonsMethod(p0, equation, tolerance=0.000001, max_iterations=50, output='answer', stopping_criterion='tolerance', iteration=50):\n",
    "    '''\n",
    "    The Newton's Method\n",
    "    \n",
    "    Keyword arguments:\n",
    "    p0 (double) -- initial approximation p₀\n",
    "    equation -- an equation of 'x' that we need to evaluate\n",
    "    tolerance (double) -- error tolerance (default = 0.000001)\n",
    "    max_iterations (int) -- number of maximum iterations (default = 50)\n",
    "    output (string) -- how to output the result (default = 'answer')\n",
    "                possible values are:\n",
    "                  - 'answer' : to show the value of \"p\"\n",
    "                  - 'table' : to show all the values in tabular form\n",
    "    stopping_criterion (string) -- when to stop the processing (default = 'tolerance')\n",
    "                possible vaulse are:\n",
    "                  - 'tolerance' : to stop at a certain tolerance level\n",
    "                  - 'iteration' : to stop at a certain iteration (must provide value for 'iteration' argument)\n",
    "    iteration (int) -- on which iteration to stop the processing (default = 50)\n",
    "    \n",
    "    Returns:\n",
    "    \n",
    "    It will return the value according to the value in 'output' argument.\n",
    "    If value of output is 'answer', it will return a float. If it is 'table', it will return a DataFrame.\n",
    "    '''\n",
    "    \n",
    "    f = lambdify(x, equation)\n",
    "    df = lambdify(x, equation.diff(x))\n",
    "    \n",
    "    if (output == \"table\"):\n",
    "            P = list()\n",
    "            P.append(p0)\n",
    "            \n",
    "    for i in range(1, max_iterations):\n",
    "        p = p0 - (f(p0)/df(p0))\n",
    "        \n",
    "        if (output == \"table\"):\n",
    "            P.append(p)\n",
    "        \n",
    "        if (abs(p - p0) < tolerance or (stopping_criterion == 'iteration' and iteration == i)):\n",
    "            if (output == 'answer'):\n",
    "                return p\n",
    "            if (output == 'table'):\n",
    "                # create a table and return it\n",
    "                d = {'p' : P}\n",
    "                return pd.DataFrame(data=d).style.format(\"{:.10}\")\n",
    "        \n",
    "        p0 = p\n",
    "    \n",
    "    return \"Method failed after \" + max_iterations + \" iterations.\""
   ]
  },
  {
   "cell_type": "markdown",
   "metadata": {},
   "source": [
    "## Example 1\n",
    "### Consider the function f(x) = cosx−x = 0. Approximate a root of *f* using Newton’s Method"
   ]
  },
  {
   "cell_type": "code",
   "execution_count": 43,
   "metadata": {
    "collapsed": false
   },
   "outputs": [
    {
     "data": {
      "text/html": [
       "\n",
       "        <style  type=\"text/css\" >\n",
       "        \n",
       "        \n",
       "        </style>\n",
       "\n",
       "        <table id=\"T_3f9575a4_f781_11e6_8ea4_e0ca948f7d8b\" None>\n",
       "        \n",
       "\n",
       "        <thead>\n",
       "            \n",
       "            <tr>\n",
       "                \n",
       "                <th class=\"blank\">\n",
       "                \n",
       "                <th class=\"col_heading level0 col0\">p\n",
       "                \n",
       "            </tr>\n",
       "            \n",
       "        </thead>\n",
       "        <tbody>\n",
       "            \n",
       "            <tr>\n",
       "                \n",
       "                <th id=\"T_3f9575a4_f781_11e6_8ea4_e0ca948f7d8b\" class=\"row_heading level0 row0\">\n",
       "                    0\n",
       "                \n",
       "                <td id=\"T_3f9575a4_f781_11e6_8ea4_e0ca948f7d8brow0_col0\" class=\"data row0 col0\">\n",
       "                    0.7853981634\n",
       "                \n",
       "            </tr>\n",
       "            \n",
       "            <tr>\n",
       "                \n",
       "                <th id=\"T_3f9575a4_f781_11e6_8ea4_e0ca948f7d8b\" class=\"row_heading level0 row1\">\n",
       "                    1\n",
       "                \n",
       "                <td id=\"T_3f9575a4_f781_11e6_8ea4_e0ca948f7d8brow1_col0\" class=\"data row1 col0\">\n",
       "                    0.7395361335\n",
       "                \n",
       "            </tr>\n",
       "            \n",
       "            <tr>\n",
       "                \n",
       "                <th id=\"T_3f9575a4_f781_11e6_8ea4_e0ca948f7d8b\" class=\"row_heading level0 row2\">\n",
       "                    2\n",
       "                \n",
       "                <td id=\"T_3f9575a4_f781_11e6_8ea4_e0ca948f7d8brow2_col0\" class=\"data row2 col0\">\n",
       "                    0.7390851781\n",
       "                \n",
       "            </tr>\n",
       "            \n",
       "            <tr>\n",
       "                \n",
       "                <th id=\"T_3f9575a4_f781_11e6_8ea4_e0ca948f7d8b\" class=\"row_heading level0 row3\">\n",
       "                    3\n",
       "                \n",
       "                <td id=\"T_3f9575a4_f781_11e6_8ea4_e0ca948f7d8brow3_col0\" class=\"data row3 col0\">\n",
       "                    0.7390851332\n",
       "                \n",
       "            </tr>\n",
       "            \n",
       "        </tbody>\n",
       "        </table>\n",
       "        "
      ],
      "text/plain": [
       "<pandas.formats.style.Styler at 0x208b2dacba8>"
      ]
     },
     "execution_count": 43,
     "metadata": {},
     "output_type": "execute_result"
    }
   ],
   "source": [
    "import math\n",
    "from sympy import *\n",
    "\n",
    "x = Symbol('x')\n",
    "NewtonsMethod(math.pi/4, cos(x) - x, output=\"table\")"
   ]
  },
  {
   "cell_type": "markdown",
   "metadata": {},
   "source": [
    "## Exercise Set 2.3"
   ]
  },
  {
   "cell_type": "markdown",
   "metadata": {},
   "source": [
    "### 1. Let f(x) = x² − 6 and p₀ = 1. Use Newton’s method to find p₂ ."
   ]
  },
  {
   "cell_type": "code",
   "execution_count": 45,
   "metadata": {
    "collapsed": false
   },
   "outputs": [
    {
     "data": {
      "text/html": [
       "\n",
       "        <style  type=\"text/css\" >\n",
       "        \n",
       "        \n",
       "        </style>\n",
       "\n",
       "        <table id=\"T_d7330aa2_f781_11e6_8197_e0ca948f7d8b\" None>\n",
       "        \n",
       "\n",
       "        <thead>\n",
       "            \n",
       "            <tr>\n",
       "                \n",
       "                <th class=\"blank\">\n",
       "                \n",
       "                <th class=\"col_heading level0 col0\">p\n",
       "                \n",
       "            </tr>\n",
       "            \n",
       "        </thead>\n",
       "        <tbody>\n",
       "            \n",
       "            <tr>\n",
       "                \n",
       "                <th id=\"T_d7330aa2_f781_11e6_8197_e0ca948f7d8b\" class=\"row_heading level0 row0\">\n",
       "                    0\n",
       "                \n",
       "                <td id=\"T_d7330aa2_f781_11e6_8197_e0ca948f7d8brow0_col0\" class=\"data row0 col0\">\n",
       "                    1.0\n",
       "                \n",
       "            </tr>\n",
       "            \n",
       "            <tr>\n",
       "                \n",
       "                <th id=\"T_d7330aa2_f781_11e6_8197_e0ca948f7d8b\" class=\"row_heading level0 row1\">\n",
       "                    1\n",
       "                \n",
       "                <td id=\"T_d7330aa2_f781_11e6_8197_e0ca948f7d8brow1_col0\" class=\"data row1 col0\">\n",
       "                    3.5\n",
       "                \n",
       "            </tr>\n",
       "            \n",
       "            <tr>\n",
       "                \n",
       "                <th id=\"T_d7330aa2_f781_11e6_8197_e0ca948f7d8b\" class=\"row_heading level0 row2\">\n",
       "                    2\n",
       "                \n",
       "                <td id=\"T_d7330aa2_f781_11e6_8197_e0ca948f7d8brow2_col0\" class=\"data row2 col0\">\n",
       "                    2.607142857\n",
       "                \n",
       "            </tr>\n",
       "            \n",
       "        </tbody>\n",
       "        </table>\n",
       "        "
      ],
      "text/plain": [
       "<pandas.formats.style.Styler at 0x208b273a3c8>"
      ]
     },
     "execution_count": 45,
     "metadata": {},
     "output_type": "execute_result"
    }
   ],
   "source": [
    "from sympy import *\n",
    "\n",
    "x = Symbol('x')\n",
    "NewtonsMethod(1, pow(x, 2) - 6, output=\"table\", stopping_criterion=\"iteration\", iteration=2)"
   ]
  },
  {
   "cell_type": "markdown",
   "metadata": {},
   "source": [
    "### 2. Let f(x) = −x³ − cosx and p₀ = −1. Use Newton’s method to find p₂ . Could p₀ = 0 be used?"
   ]
  },
  {
   "cell_type": "code",
   "execution_count": 46,
   "metadata": {
    "collapsed": false
   },
   "outputs": [
    {
     "data": {
      "text/html": [
       "\n",
       "        <style  type=\"text/css\" >\n",
       "        \n",
       "        \n",
       "        </style>\n",
       "\n",
       "        <table id=\"T_1d758c2e_f782_11e6_9f4a_e0ca948f7d8b\" None>\n",
       "        \n",
       "\n",
       "        <thead>\n",
       "            \n",
       "            <tr>\n",
       "                \n",
       "                <th class=\"blank\">\n",
       "                \n",
       "                <th class=\"col_heading level0 col0\">p\n",
       "                \n",
       "            </tr>\n",
       "            \n",
       "        </thead>\n",
       "        <tbody>\n",
       "            \n",
       "            <tr>\n",
       "                \n",
       "                <th id=\"T_1d758c2e_f782_11e6_9f4a_e0ca948f7d8b\" class=\"row_heading level0 row0\">\n",
       "                    0\n",
       "                \n",
       "                <td id=\"T_1d758c2e_f782_11e6_9f4a_e0ca948f7d8brow0_col0\" class=\"data row0 col0\">\n",
       "                    -1.0\n",
       "                \n",
       "            </tr>\n",
       "            \n",
       "            <tr>\n",
       "                \n",
       "                <th id=\"T_1d758c2e_f782_11e6_9f4a_e0ca948f7d8b\" class=\"row_heading level0 row1\">\n",
       "                    1\n",
       "                \n",
       "                <td id=\"T_1d758c2e_f782_11e6_9f4a_e0ca948f7d8brow1_col0\" class=\"data row1 col0\">\n",
       "                    -0.2864111184\n",
       "                \n",
       "            </tr>\n",
       "            \n",
       "            <tr>\n",
       "                \n",
       "                <th id=\"T_1d758c2e_f782_11e6_9f4a_e0ca948f7d8b\" class=\"row_heading level0 row2\">\n",
       "                    2\n",
       "                \n",
       "                <td id=\"T_1d758c2e_f782_11e6_9f4a_e0ca948f7d8brow2_col0\" class=\"data row2 col0\">\n",
       "                    -27.27238899\n",
       "                \n",
       "            </tr>\n",
       "            \n",
       "        </tbody>\n",
       "        </table>\n",
       "        "
      ],
      "text/plain": [
       "<pandas.formats.style.Styler at 0x208b273aba8>"
      ]
     },
     "execution_count": 46,
     "metadata": {},
     "output_type": "execute_result"
    }
   ],
   "source": [
    "from sympy import *\n",
    "\n",
    "x = Symbol('x')\n",
    "NewtonsMethod(-1, pow(x, 3) - cos(x), output=\"table\", stopping_criterion=\"iteration\", iteration=2)"
   ]
  },
  {
   "cell_type": "code",
   "execution_count": 47,
   "metadata": {
    "collapsed": false
   },
   "outputs": [
    {
     "ename": "ZeroDivisionError",
     "evalue": "float division by zero",
     "output_type": "error",
     "traceback": [
      "\u001b[1;31m---------------------------------------------------------------------------\u001b[0m",
      "\u001b[1;31mZeroDivisionError\u001b[0m                         Traceback (most recent call last)",
      "\u001b[1;32m<ipython-input-47-12f7e0c09919>\u001b[0m in \u001b[0;36m<module>\u001b[1;34m()\u001b[0m\n\u001b[0;32m      2\u001b[0m \u001b[1;33m\u001b[0m\u001b[0m\n\u001b[0;32m      3\u001b[0m \u001b[0mx\u001b[0m \u001b[1;33m=\u001b[0m \u001b[0mSymbol\u001b[0m\u001b[1;33m(\u001b[0m\u001b[1;34m'x'\u001b[0m\u001b[1;33m)\u001b[0m\u001b[1;33m\u001b[0m\u001b[0m\n\u001b[1;32m----> 4\u001b[1;33m \u001b[0mNewtonsMethod\u001b[0m\u001b[1;33m(\u001b[0m\u001b[1;36m0\u001b[0m\u001b[1;33m,\u001b[0m \u001b[0mpow\u001b[0m\u001b[1;33m(\u001b[0m\u001b[0mx\u001b[0m\u001b[1;33m,\u001b[0m \u001b[1;36m3\u001b[0m\u001b[1;33m)\u001b[0m \u001b[1;33m-\u001b[0m \u001b[0mcos\u001b[0m\u001b[1;33m(\u001b[0m\u001b[0mx\u001b[0m\u001b[1;33m)\u001b[0m\u001b[1;33m,\u001b[0m \u001b[0moutput\u001b[0m\u001b[1;33m=\u001b[0m\u001b[1;34m\"table\"\u001b[0m\u001b[1;33m,\u001b[0m \u001b[0mstopping_criterion\u001b[0m\u001b[1;33m=\u001b[0m\u001b[1;34m\"iteration\"\u001b[0m\u001b[1;33m,\u001b[0m \u001b[0miteration\u001b[0m\u001b[1;33m=\u001b[0m\u001b[1;36m2\u001b[0m\u001b[1;33m)\u001b[0m\u001b[1;33m\u001b[0m\u001b[0m\n\u001b[0m",
      "\u001b[1;32m<ipython-input-42-4b17c606d1d1>\u001b[0m in \u001b[0;36mNewtonsMethod\u001b[1;34m(p0, equation, tolerance, max_iterations, output, stopping_criterion, iteration)\u001b[0m\n\u001b[0;32m     35\u001b[0m \u001b[1;33m\u001b[0m\u001b[0m\n\u001b[0;32m     36\u001b[0m     \u001b[1;32mfor\u001b[0m \u001b[0mi\u001b[0m \u001b[1;32min\u001b[0m \u001b[0mrange\u001b[0m\u001b[1;33m(\u001b[0m\u001b[1;36m1\u001b[0m\u001b[1;33m,\u001b[0m \u001b[0mmax_iterations\u001b[0m\u001b[1;33m)\u001b[0m\u001b[1;33m:\u001b[0m\u001b[1;33m\u001b[0m\u001b[0m\n\u001b[1;32m---> 37\u001b[1;33m         \u001b[0mp\u001b[0m \u001b[1;33m=\u001b[0m \u001b[0mp0\u001b[0m \u001b[1;33m-\u001b[0m \u001b[1;33m(\u001b[0m\u001b[0mf\u001b[0m\u001b[1;33m(\u001b[0m\u001b[0mp0\u001b[0m\u001b[1;33m)\u001b[0m\u001b[1;33m/\u001b[0m\u001b[0mdf\u001b[0m\u001b[1;33m(\u001b[0m\u001b[0mp0\u001b[0m\u001b[1;33m)\u001b[0m\u001b[1;33m)\u001b[0m\u001b[1;33m\u001b[0m\u001b[0m\n\u001b[0m\u001b[0;32m     38\u001b[0m \u001b[1;33m\u001b[0m\u001b[0m\n\u001b[0;32m     39\u001b[0m         \u001b[1;32mif\u001b[0m \u001b[1;33m(\u001b[0m\u001b[0moutput\u001b[0m \u001b[1;33m==\u001b[0m \u001b[1;34m\"table\"\u001b[0m\u001b[1;33m)\u001b[0m\u001b[1;33m:\u001b[0m\u001b[1;33m\u001b[0m\u001b[0m\n",
      "\u001b[1;31mZeroDivisionError\u001b[0m: float division by zero"
     ]
    }
   ],
   "source": [
    "from sympy import *\n",
    "\n",
    "x = Symbol('x')\n",
    "NewtonsMethod(0, pow(x, 3) - cos(x), output=\"table\", stopping_criterion=\"iteration\", iteration=2)"
   ]
  },
  {
   "cell_type": "code",
   "execution_count": 52,
   "metadata": {
    "collapsed": false
   },
   "outputs": [
    {
     "data": {
      "text/plain": [
       "0.0"
      ]
     },
     "execution_count": 52,
     "metadata": {},
     "output_type": "execute_result"
    }
   ],
   "source": [
    "from sympy import *\n",
    "\n",
    "x = Symbol('x')\n",
    "equation = pow(x, 3) - cos(x)\n",
    "df = lambdify(x, equation.diff(x))\n",
    "\n",
    "df(0)"
   ]
  },
  {
   "cell_type": "markdown",
   "metadata": {},
   "source": [
    "#### No, we can't use p₀ = 0, because if we do, then derivate of *f* returns 0 and then we try to divide by that 0 in the formula to obtain p₁ , which causes a division by zero error. "
   ]
  },
  {
   "cell_type": "markdown",
   "metadata": {},
   "source": [
    "### 5. Use Newton’s method to find solutions accurate to within 10⁻⁴ for the following problems."
   ]
  },
  {
   "cell_type": "markdown",
   "metadata": {},
   "source": [
    "### a. x³ − 2x² − 5 = 0, [1,4]"
   ]
  },
  {
   "cell_type": "code",
   "execution_count": 58,
   "metadata": {
    "collapsed": false
   },
   "outputs": [
    {
     "data": {
      "text/html": [
       "\n",
       "        <style  type=\"text/css\" >\n",
       "        \n",
       "        \n",
       "        </style>\n",
       "\n",
       "        <table id=\"T_890707f6_f783_11e6_831a_e0ca948f7d8b\" None>\n",
       "        \n",
       "\n",
       "        <thead>\n",
       "            \n",
       "            <tr>\n",
       "                \n",
       "                <th class=\"blank\">\n",
       "                \n",
       "                <th class=\"col_heading level0 col0\">p\n",
       "                \n",
       "            </tr>\n",
       "            \n",
       "        </thead>\n",
       "        <tbody>\n",
       "            \n",
       "            <tr>\n",
       "                \n",
       "                <th id=\"T_890707f6_f783_11e6_831a_e0ca948f7d8b\" class=\"row_heading level0 row0\">\n",
       "                    0\n",
       "                \n",
       "                <td id=\"T_890707f6_f783_11e6_831a_e0ca948f7d8brow0_col0\" class=\"data row0 col0\">\n",
       "                    2.0\n",
       "                \n",
       "            </tr>\n",
       "            \n",
       "            <tr>\n",
       "                \n",
       "                <th id=\"T_890707f6_f783_11e6_831a_e0ca948f7d8b\" class=\"row_heading level0 row1\">\n",
       "                    1\n",
       "                \n",
       "                <td id=\"T_890707f6_f783_11e6_831a_e0ca948f7d8brow1_col0\" class=\"data row1 col0\">\n",
       "                    3.25\n",
       "                \n",
       "            </tr>\n",
       "            \n",
       "            <tr>\n",
       "                \n",
       "                <th id=\"T_890707f6_f783_11e6_831a_e0ca948f7d8b\" class=\"row_heading level0 row2\">\n",
       "                    2\n",
       "                \n",
       "                <td id=\"T_890707f6_f783_11e6_831a_e0ca948f7d8brow2_col0\" class=\"data row2 col0\">\n",
       "                    2.811036789\n",
       "                \n",
       "            </tr>\n",
       "            \n",
       "            <tr>\n",
       "                \n",
       "                <th id=\"T_890707f6_f783_11e6_831a_e0ca948f7d8b\" class=\"row_heading level0 row3\">\n",
       "                    3\n",
       "                \n",
       "                <td id=\"T_890707f6_f783_11e6_831a_e0ca948f7d8brow3_col0\" class=\"data row3 col0\">\n",
       "                    2.697989502\n",
       "                \n",
       "            </tr>\n",
       "            \n",
       "            <tr>\n",
       "                \n",
       "                <th id=\"T_890707f6_f783_11e6_831a_e0ca948f7d8b\" class=\"row_heading level0 row4\">\n",
       "                    4\n",
       "                \n",
       "                <td id=\"T_890707f6_f783_11e6_831a_e0ca948f7d8brow4_col0\" class=\"data row4 col0\">\n",
       "                    2.690677153\n",
       "                \n",
       "            </tr>\n",
       "            \n",
       "            <tr>\n",
       "                \n",
       "                <th id=\"T_890707f6_f783_11e6_831a_e0ca948f7d8b\" class=\"row_heading level0 row5\">\n",
       "                    5\n",
       "                \n",
       "                <td id=\"T_890707f6_f783_11e6_831a_e0ca948f7d8brow5_col0\" class=\"data row5 col0\">\n",
       "                    2.690647449\n",
       "                \n",
       "            </tr>\n",
       "            \n",
       "        </tbody>\n",
       "        </table>\n",
       "        "
      ],
      "text/plain": [
       "<pandas.formats.style.Styler at 0x208b2501a58>"
      ]
     },
     "execution_count": 58,
     "metadata": {},
     "output_type": "execute_result"
    }
   ],
   "source": [
    "from sympy import *\n",
    "\n",
    "x = Symbol('x')\n",
    "NewtonsMethod(p0=2, equation=pow(x, 3) - 2*pow(x, 2) - 5, tolerance=pow(10, -4), output=\"table\")"
   ]
  },
  {
   "cell_type": "markdown",
   "metadata": {},
   "source": [
    "### b. x³ + 3x² − 1 = 0, [−3,−2]"
   ]
  },
  {
   "cell_type": "code",
   "execution_count": 60,
   "metadata": {
    "collapsed": false
   },
   "outputs": [
    {
     "data": {
      "text/html": [
       "\n",
       "        <style  type=\"text/css\" >\n",
       "        \n",
       "        \n",
       "        </style>\n",
       "\n",
       "        <table id=\"T_d092af24_f783_11e6_a606_e0ca948f7d8b\" None>\n",
       "        \n",
       "\n",
       "        <thead>\n",
       "            \n",
       "            <tr>\n",
       "                \n",
       "                <th class=\"blank\">\n",
       "                \n",
       "                <th class=\"col_heading level0 col0\">p\n",
       "                \n",
       "            </tr>\n",
       "            \n",
       "        </thead>\n",
       "        <tbody>\n",
       "            \n",
       "            <tr>\n",
       "                \n",
       "                <th id=\"T_d092af24_f783_11e6_a606_e0ca948f7d8b\" class=\"row_heading level0 row0\">\n",
       "                    0\n",
       "                \n",
       "                <td id=\"T_d092af24_f783_11e6_a606_e0ca948f7d8brow0_col0\" class=\"data row0 col0\">\n",
       "                    -3.0\n",
       "                \n",
       "            </tr>\n",
       "            \n",
       "            <tr>\n",
       "                \n",
       "                <th id=\"T_d092af24_f783_11e6_a606_e0ca948f7d8b\" class=\"row_heading level0 row1\">\n",
       "                    1\n",
       "                \n",
       "                <td id=\"T_d092af24_f783_11e6_a606_e0ca948f7d8brow1_col0\" class=\"data row1 col0\">\n",
       "                    -2.888888889\n",
       "                \n",
       "            </tr>\n",
       "            \n",
       "            <tr>\n",
       "                \n",
       "                <th id=\"T_d092af24_f783_11e6_a606_e0ca948f7d8b\" class=\"row_heading level0 row2\">\n",
       "                    2\n",
       "                \n",
       "                <td id=\"T_d092af24_f783_11e6_a606_e0ca948f7d8brow2_col0\" class=\"data row2 col0\">\n",
       "                    -2.879451567\n",
       "                \n",
       "            </tr>\n",
       "            \n",
       "            <tr>\n",
       "                \n",
       "                <th id=\"T_d092af24_f783_11e6_a606_e0ca948f7d8b\" class=\"row_heading level0 row3\">\n",
       "                    3\n",
       "                \n",
       "                <td id=\"T_d092af24_f783_11e6_a606_e0ca948f7d8brow3_col0\" class=\"data row3 col0\">\n",
       "                    -2.879385245\n",
       "                \n",
       "            </tr>\n",
       "            \n",
       "        </tbody>\n",
       "        </table>\n",
       "        "
      ],
      "text/plain": [
       "<pandas.formats.style.Styler at 0x208b25017f0>"
      ]
     },
     "execution_count": 60,
     "metadata": {},
     "output_type": "execute_result"
    }
   ],
   "source": [
    "from sympy import *\n",
    "\n",
    "x = Symbol('x')\n",
    "NewtonsMethod(p0=-3, equation=pow(x, 3) + 3*pow(x, 2) - 1, tolerance=pow(10, -4), output=\"table\")"
   ]
  },
  {
   "cell_type": "markdown",
   "metadata": {},
   "source": [
    "### c. x − cosx = 0, [0,π/2]"
   ]
  },
  {
   "cell_type": "code",
   "execution_count": 61,
   "metadata": {
    "collapsed": false
   },
   "outputs": [
    {
     "data": {
      "text/html": [
       "\n",
       "        <style  type=\"text/css\" >\n",
       "        \n",
       "        \n",
       "        </style>\n",
       "\n",
       "        <table id=\"T_0c935464_f784_11e6_957a_e0ca948f7d8b\" None>\n",
       "        \n",
       "\n",
       "        <thead>\n",
       "            \n",
       "            <tr>\n",
       "                \n",
       "                <th class=\"blank\">\n",
       "                \n",
       "                <th class=\"col_heading level0 col0\">p\n",
       "                \n",
       "            </tr>\n",
       "            \n",
       "        </thead>\n",
       "        <tbody>\n",
       "            \n",
       "            <tr>\n",
       "                \n",
       "                <th id=\"T_0c935464_f784_11e6_957a_e0ca948f7d8b\" class=\"row_heading level0 row0\">\n",
       "                    0\n",
       "                \n",
       "                <td id=\"T_0c935464_f784_11e6_957a_e0ca948f7d8brow0_col0\" class=\"data row0 col0\">\n",
       "                    0.0\n",
       "                \n",
       "            </tr>\n",
       "            \n",
       "            <tr>\n",
       "                \n",
       "                <th id=\"T_0c935464_f784_11e6_957a_e0ca948f7d8b\" class=\"row_heading level0 row1\">\n",
       "                    1\n",
       "                \n",
       "                <td id=\"T_0c935464_f784_11e6_957a_e0ca948f7d8brow1_col0\" class=\"data row1 col0\">\n",
       "                    1.0\n",
       "                \n",
       "            </tr>\n",
       "            \n",
       "            <tr>\n",
       "                \n",
       "                <th id=\"T_0c935464_f784_11e6_957a_e0ca948f7d8b\" class=\"row_heading level0 row2\">\n",
       "                    2\n",
       "                \n",
       "                <td id=\"T_0c935464_f784_11e6_957a_e0ca948f7d8brow2_col0\" class=\"data row2 col0\">\n",
       "                    0.7503638678\n",
       "                \n",
       "            </tr>\n",
       "            \n",
       "            <tr>\n",
       "                \n",
       "                <th id=\"T_0c935464_f784_11e6_957a_e0ca948f7d8b\" class=\"row_heading level0 row3\">\n",
       "                    3\n",
       "                \n",
       "                <td id=\"T_0c935464_f784_11e6_957a_e0ca948f7d8brow3_col0\" class=\"data row3 col0\">\n",
       "                    0.7391128909\n",
       "                \n",
       "            </tr>\n",
       "            \n",
       "            <tr>\n",
       "                \n",
       "                <th id=\"T_0c935464_f784_11e6_957a_e0ca948f7d8b\" class=\"row_heading level0 row4\">\n",
       "                    4\n",
       "                \n",
       "                <td id=\"T_0c935464_f784_11e6_957a_e0ca948f7d8brow4_col0\" class=\"data row4 col0\">\n",
       "                    0.7390851334\n",
       "                \n",
       "            </tr>\n",
       "            \n",
       "        </tbody>\n",
       "        </table>\n",
       "        "
      ],
      "text/plain": [
       "<pandas.formats.style.Styler at 0x208b250e438>"
      ]
     },
     "execution_count": 61,
     "metadata": {},
     "output_type": "execute_result"
    }
   ],
   "source": [
    "from sympy import *\n",
    "\n",
    "x = Symbol('x')\n",
    "NewtonsMethod(p0=0, equation=x - cos(x), tolerance=pow(10, -4), output=\"table\")"
   ]
  },
  {
   "cell_type": "markdown",
   "metadata": {},
   "source": [
    "### d. x − 0.8 − 0.2sinx = 0, [0,π/2]"
   ]
  },
  {
   "cell_type": "code",
   "execution_count": 73,
   "metadata": {
    "collapsed": false
   },
   "outputs": [
    {
     "data": {
      "text/html": [
       "\n",
       "        <style  type=\"text/css\" >\n",
       "        \n",
       "        \n",
       "        </style>\n",
       "\n",
       "        <table id=\"T_1f16c142_f785_11e6_9cca_e0ca948f7d8b\" None>\n",
       "        \n",
       "\n",
       "        <thead>\n",
       "            \n",
       "            <tr>\n",
       "                \n",
       "                <th class=\"blank\">\n",
       "                \n",
       "                <th class=\"col_heading level0 col0\">p\n",
       "                \n",
       "            </tr>\n",
       "            \n",
       "        </thead>\n",
       "        <tbody>\n",
       "            \n",
       "            <tr>\n",
       "                \n",
       "                <th id=\"T_1f16c142_f785_11e6_9cca_e0ca948f7d8b\" class=\"row_heading level0 row0\">\n",
       "                    0\n",
       "                \n",
       "                <td id=\"T_1f16c142_f785_11e6_9cca_e0ca948f7d8brow0_col0\" class=\"data row0 col0\">\n",
       "                    0.0\n",
       "                \n",
       "            </tr>\n",
       "            \n",
       "            <tr>\n",
       "                \n",
       "                <th id=\"T_1f16c142_f785_11e6_9cca_e0ca948f7d8b\" class=\"row_heading level0 row1\">\n",
       "                    1\n",
       "                \n",
       "                <td id=\"T_1f16c142_f785_11e6_9cca_e0ca948f7d8brow1_col0\" class=\"data row1 col0\">\n",
       "                    1.0\n",
       "                \n",
       "            </tr>\n",
       "            \n",
       "            <tr>\n",
       "                \n",
       "                <th id=\"T_1f16c142_f785_11e6_9cca_e0ca948f7d8b\" class=\"row_heading level0 row2\">\n",
       "                    2\n",
       "                \n",
       "                <td id=\"T_1f16c142_f785_11e6_9cca_e0ca948f7d8brow2_col0\" class=\"data row2 col0\">\n",
       "                    0.9644529683\n",
       "                \n",
       "            </tr>\n",
       "            \n",
       "            <tr>\n",
       "                \n",
       "                <th id=\"T_1f16c142_f785_11e6_9cca_e0ca948f7d8b\" class=\"row_heading level0 row3\">\n",
       "                    3\n",
       "                \n",
       "                <td id=\"T_1f16c142_f785_11e6_9cca_e0ca948f7d8brow3_col0\" class=\"data row3 col0\">\n",
       "                    0.964333889\n",
       "                \n",
       "            </tr>\n",
       "            \n",
       "            <tr>\n",
       "                \n",
       "                <th id=\"T_1f16c142_f785_11e6_9cca_e0ca948f7d8b\" class=\"row_heading level0 row4\">\n",
       "                    4\n",
       "                \n",
       "                <td id=\"T_1f16c142_f785_11e6_9cca_e0ca948f7d8brow4_col0\" class=\"data row4 col0\">\n",
       "                    0.9643338877\n",
       "                \n",
       "            </tr>\n",
       "            \n",
       "        </tbody>\n",
       "        </table>\n",
       "        "
      ],
      "text/plain": [
       "<pandas.formats.style.Styler at 0x208b2501c18>"
      ]
     },
     "execution_count": 73,
     "metadata": {},
     "output_type": "execute_result"
    }
   ],
   "source": [
    "from sympy import *\n",
    "\n",
    "x = Symbol('x')\n",
    "NewtonsMethod(p0=0, equation=x - 0.8 - 0.2*sin(x), tolerance=pow(10, -4), output=\"table\")"
   ]
  }
 ],
 "metadata": {
  "kernelspec": {
   "display_name": "Python [Root]",
   "language": "python",
   "name": "Python [Root]"
  },
  "language_info": {
   "codemirror_mode": {
    "name": "ipython",
    "version": 3
   },
   "file_extension": ".py",
   "mimetype": "text/x-python",
   "name": "python",
   "nbconvert_exporter": "python",
   "pygments_lexer": "ipython3",
   "version": "3.5.2"
  }
 },
 "nbformat": 4,
 "nbformat_minor": 0
}
